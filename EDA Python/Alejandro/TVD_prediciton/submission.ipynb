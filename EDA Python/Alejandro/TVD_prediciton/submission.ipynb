{
 "cells": [
  {
   "cell_type": "code",
   "execution_count": 3,
   "metadata": {},
   "outputs": [],
   "source": [
    "import pandas as pd\n",
    "from sklearn.impute import SimpleImputer\n",
    "from sklearn.preprocessing import OneHotEncoder, StandardScaler, LabelEncoder\n",
    "from sklearn.pipeline import Pipeline\n",
    "from sklearn.compose import ColumnTransformer\n",
    "import matplotlib.pyplot as plt\n",
    "import numpy as np\n",
    "from sklearn.model_selection import train_test_split\n",
    "from sklearn.metrics import mean_squared_error,mean_absolute_error\n",
    "from sklearn.linear_model import LinearRegression\n",
    "from sklearn.ensemble import RandomForestRegressor\n",
    "from sklearn.ensemble import AdaBoostRegressor\n"
   ]
  },
  {
   "cell_type": "code",
   "execution_count": 4,
   "metadata": {},
   "outputs": [
    {
     "name": "stderr",
     "output_type": "stream",
     "text": [
      "/Users/alejocoy/opt/anaconda3/lib/python3.7/site-packages/IPython/core/interactiveshell.py:3063: DtypeWarning: Columns (24,26,27,28,52,54,55,56,80,81) have mixed types.Specify dtype option on import or set low_memory=False.\n",
      "  interactivity=interactivity, compiler=compiler, result=result)\n"
     ]
    }
   ],
   "source": [
    "data = pd.read_csv(\"../../../data/WellHeader_Datathon.csv\")"
   ]
  },
  {
   "cell_type": "markdown",
   "metadata": {},
   "source": [
    "# Clean data functions"
   ]
  },
  {
   "cell_type": "code",
   "execution_count": 88,
   "metadata": {},
   "outputs": [],
   "source": [
    "def clean_pipeline(df,column_selection=None):\n",
    "    ## Select objects to convert to category type \n",
    "    obj_cast_category = ['Province', 'CurrentOperator', 'CurrentOperatorParentName',\n",
    "   'Licensee', 'LicenseeParentCompanyName', 'CurrentStatus',\n",
    "   'CurrentStatusStandardised', 'WellType', 'WellTypeStandardised',\n",
    "   'Formation', 'Field', 'Pool', 'SurveySystem',\n",
    "   'Surf_Meridian', 'Surf_TownshipRange',\n",
    "   'Surf_QuarterUnit', 'Surf_Unit', 'Surf_Block', 'Surf_NTSMapSheet',\n",
    "   'Surf_Series', 'Surf_Area', 'Surf_Sheet', 'Surf_QuarterSection',\n",
    "   'BH_Location', 'BH_TownshipRange', 'BH_QuarterUnit', 'BH_Unit',\n",
    "   'BH_Block', 'BH_NTSMapSheet', 'BH_Series', 'BH_Area', 'BH_Sheet',\n",
    "   'BH_QuarterSection', 'BH_Meridian', 'LaheeClass', 'Confidential',\n",
    "   'SurfaceOwner', 'OSArea', 'OSDeposit', 'DrillingContractor',\n",
    "   'WellProfile', 'Country', 'RegulatoryAgency', 'PSACAreaCode',\n",
    "   'PSACAreaName', 'StatusSource', 'UnitID', 'UnitName', 'UnitFlag',\n",
    "   'Agent','Surf_LSD','Surf_Section','Surf_Township','Surf_Range','BH_LSD','BH_Section','BH_Township','BH_Range']\n",
    "    surface_columns=['Surf_LSD','Surf_Section','Surf_Township','Surf_Range','BH_LSD','BH_Section','BH_Township','BH_Range']\n",
    "    df[surface_columns]=df[surface_columns].astype(str)\n",
    "    df[obj_cast_category] = df[obj_cast_category].astype('category')\n",
    "    \n",
    "    df_s = df[column_selection]\n",
    "    df_s['TVD']= df['TVD']\n",
    "    return df_s\n",
    "\n",
    "def feature_eng(df):\n",
    "    y = df['TVD']\n",
    "    df.drop(columns='TVD',inplace=True)\n",
    "    #Categorical Values\n",
    "    cat_attributes =list(df.dtypes[df.dtypes != 'float64'][df.dtypes != 'int64'].index)\n",
    "    #Numerical Values\n",
    "    num_attributes=list(set(list(df.columns))-  set (cat_attributes))\n",
    "    df_num = df.drop(columns=cat_attributes)\n",
    "    df_cat = df.drop(columns=num_attributes)\n",
    "\n",
    "    #Replace missing values for Project Depth with median\n",
    "    imputer = SimpleImputer(strategy='median')\n",
    "    imputer.fit(df[['ProjectedDepth']])\n",
    "    df['ProjectedDepth']=imputer.transform(df[['ProjectedDepth']])\n",
    "\n",
    "    #One hot encoder for categories\n",
    "    ohe = OneHotEncoder(sparse=False)\n",
    "    df_ohe = ohe.fit_transform(df_cat)\n",
    "    columns_names= ohe.get_feature_names(cat_attributes)\n",
    "    df_cat = pd.DataFrame(df_ohe,columns=columns_names)\n",
    "\n",
    "    #Numerical pipeline, change normalize numerical values\n",
    "    num_pipline = Pipeline([\n",
    "        ('immputer', SimpleImputer(strategy='median')),\n",
    "        ('std_scales',StandardScaler())\n",
    "    ])\n",
    "    # pipeline for numberical \n",
    "    df_num1 =num_pipline.fit_transform(df_num)\n",
    "\n",
    "    #Join numerical and categorical dataframe\n",
    "    num = pd.DataFrame(df_num1,columns=df_num.columns)\n",
    "    pd_clean = pd.concat([num,df_cat],axis=1)\n",
    "    return pd_clean,y"
   ]
  },
  {
   "cell_type": "markdown",
   "metadata": {},
   "source": [
    "# Create Train and Test set"
   ]
  },
  {
   "cell_type": "code",
   "execution_count": 92,
   "metadata": {},
   "outputs": [
    {
     "name": "stderr",
     "output_type": "stream",
     "text": [
      "/Users/alejocoy/opt/anaconda3/lib/python3.7/site-packages/ipykernel_launcher.py:22: SettingWithCopyWarning: \n",
      "A value is trying to be set on a copy of a slice from a DataFrame.\n",
      "Try using .loc[row_indexer,col_indexer] = value instead\n",
      "\n",
      "See the caveats in the documentation: https://pandas.pydata.org/pandas-docs/stable/user_guide/indexing.html#returning-a-view-versus-a-copy\n"
     ]
    }
   ],
   "source": [
    "feature_selection = ['EPAssetsId','Surf_LSD','Surf_Section','Surf_Township','Surf_Range','Surf_Meridian','Surf_Longitude','Surf_Latitude','BH_Longitude','BH_Latitude','GroundElevation',\n",
    "                    'KBElevation','TotalDepth','Formation','WellType','BH_LSD','BH_Section','BH_Township','BH_Range','WellProfile','ProjectedDepth']\n",
    "well_header =  clean_pipeline(data,feature_selection)\n",
    "wh =well_header[~well_header.TVD.isna()]"
   ]
  },
  {
   "cell_type": "code",
   "execution_count": 93,
   "metadata": {},
   "outputs": [
    {
     "name": "stdout",
     "output_type": "stream",
     "text": [
      "<class 'pandas.core.frame.DataFrame'>\n",
      "Int64Index: 6731 entries, 1 to 10436\n",
      "Data columns (total 22 columns):\n",
      " #   Column           Non-Null Count  Dtype   \n",
      "---  ------           --------------  -----   \n",
      " 0   EPAssetsId       6731 non-null   int64   \n",
      " 1   Surf_LSD         6731 non-null   category\n",
      " 2   Surf_Section     6731 non-null   category\n",
      " 3   Surf_Township    6731 non-null   category\n",
      " 4   Surf_Range       6731 non-null   category\n",
      " 5   Surf_Meridian    6731 non-null   category\n",
      " 6   Surf_Longitude   6731 non-null   float64 \n",
      " 7   Surf_Latitude    6731 non-null   float64 \n",
      " 8   BH_Longitude     6731 non-null   float64 \n",
      " 9   BH_Latitude      6731 non-null   float64 \n",
      " 10  GroundElevation  6731 non-null   float64 \n",
      " 11  KBElevation      6731 non-null   float64 \n",
      " 12  TotalDepth       6731 non-null   float64 \n",
      " 13  Formation        6731 non-null   category\n",
      " 14  WellType         6731 non-null   category\n",
      " 15  BH_LSD           6731 non-null   category\n",
      " 16  BH_Section       6731 non-null   category\n",
      " 17  BH_Township      6731 non-null   category\n",
      " 18  BH_Range         6731 non-null   category\n",
      " 19  WellProfile      6731 non-null   category\n",
      " 20  ProjectedDepth   6424 non-null   float64 \n",
      " 21  TVD              6731 non-null   float64 \n",
      "dtypes: category(12), float64(9), int64(1)\n",
      "memory usage: 671.6 KB\n"
     ]
    }
   ],
   "source": [
    "wh.info()"
   ]
  },
  {
   "cell_type": "code",
   "execution_count": 94,
   "metadata": {},
   "outputs": [
    {
     "name": "stderr",
     "output_type": "stream",
     "text": [
      "/Users/alejocoy/opt/anaconda3/lib/python3.7/site-packages/pandas/core/frame.py:3997: SettingWithCopyWarning: \n",
      "A value is trying to be set on a copy of a slice from a DataFrame\n",
      "\n",
      "See the caveats in the documentation: https://pandas.pydata.org/pandas-docs/stable/user_guide/indexing.html#returning-a-view-versus-a-copy\n",
      "  errors=errors,\n",
      "/Users/alejocoy/opt/anaconda3/lib/python3.7/site-packages/ipykernel_launcher.py:38: SettingWithCopyWarning: \n",
      "A value is trying to be set on a copy of a slice from a DataFrame.\n",
      "Try using .loc[row_indexer,col_indexer] = value instead\n",
      "\n",
      "See the caveats in the documentation: https://pandas.pydata.org/pandas-docs/stable/user_guide/indexing.html#returning-a-view-versus-a-copy\n"
     ]
    }
   ],
   "source": [
    "train_df, train_y=feature_eng(wh) "
   ]
  },
  {
   "cell_type": "code",
   "execution_count": 95,
   "metadata": {},
   "outputs": [],
   "source": [
    "test_data = pd.read_csv(\"../../../data/Submission_Sample.csv\")"
   ]
  },
  {
   "cell_type": "code",
   "execution_count": 96,
   "metadata": {},
   "outputs": [],
   "source": [
    "test = well_header[well_header['EPAssetsId'].isin(test_data['EPAssetsId'])].drop(columns='TVD')\n",
    "test = pd.merge(test,test_data, on='EPAssetsId')\n",
    "test.to_csv('test1.csv',index=False)"
   ]
  },
  {
   "cell_type": "code",
   "execution_count": 97,
   "metadata": {},
   "outputs": [],
   "source": [
    "test_df,test_y = feature_eng(test)"
   ]
  },
  {
   "cell_type": "code",
   "execution_count": 98,
   "metadata": {},
   "outputs": [],
   "source": [
    "final_train, final_test = train_df.align(test_df, join='inner', axis=1,fill_value=0)"
   ]
  },
  {
   "cell_type": "code",
   "execution_count": 99,
   "metadata": {},
   "outputs": [
    {
     "data": {
      "text/plain": [
       "((6731, 292), (1963, 292))"
      ]
     },
     "execution_count": 99,
     "metadata": {},
     "output_type": "execute_result"
    }
   ],
   "source": [
    "final_train.shape,final_test.shape"
   ]
  },
  {
   "cell_type": "markdown",
   "metadata": {},
   "source": [
    "ML Models"
   ]
  },
  {
   "cell_type": "code",
   "execution_count": 100,
   "metadata": {},
   "outputs": [
    {
     "data": {
      "text/plain": [
       "1525092545320.1345"
      ]
     },
     "execution_count": 100,
     "metadata": {},
     "output_type": "execute_result"
    }
   ],
   "source": [
    "lin_reg = LinearRegression()\n",
    "lin_reg.fit(final_train,train_y)\n",
    "pred= lin_reg.predict(final_test)\n",
    "lin_mse = mean_squared_error(test_y,pred)\n",
    "linrmse=np.sqrt(lin_mse)\n",
    "linrmse"
   ]
  },
  {
   "cell_type": "code",
   "execution_count": 101,
   "metadata": {},
   "outputs": [
    {
     "data": {
      "text/plain": [
       "1267.0763818676357"
      ]
     },
     "execution_count": 101,
     "metadata": {},
     "output_type": "execute_result"
    }
   ],
   "source": [
    "rf_reg = RandomForestRegressor()\n",
    "rf_reg.fit(final_train,train_y)\n",
    "pred_rf= rf_reg.predict(final_test)\n",
    "rf_mse = mean_squared_error(test_y,pred_rf)\n",
    "rfrmse=np.sqrt(rf_mse)\n",
    "rfrmse"
   ]
  },
  {
   "cell_type": "code",
   "execution_count": 102,
   "metadata": {},
   "outputs": [
    {
     "data": {
      "text/plain": [
       "<BarContainer object of 10 artists>"
      ]
     },
     "execution_count": 102,
     "metadata": {},
     "output_type": "execute_result"
    },
    {
     "data": {
      "image/png": "[encoded data removed]",
      "text/plain": [
       "<Figure size 1080x360 with 1 Axes>"
      ]
     },
     "metadata": {
      "needs_background": "light"
     },
     "output_type": "display_data"
    }
   ],
   "source": [
    "feature_importance=rf_reg.feature_importances_\n",
    "importances=pd.DataFrame(final_train.columns,feature_importance,columns=['Feature']).reset_index()\n",
    "importances.columns = ['weight','Feature']\n",
    "importances = importances.sort_values(['weight'],ascending=False)\n",
    "imp_plot = importances.iloc[:10]\n",
    "imp_feature = importances['Feature']\n",
    "fig = plt.figure(figsize=(15,5))\n",
    "plt.title('Ten most Predictive Features')\n",
    "plt.bar(imp_plot['Feature'],imp_plot['weight'])"
   ]
  },
  {
   "cell_type": "code",
   "execution_count": 103,
   "metadata": {},
   "outputs": [],
   "source": [
    "from sklearn.ensemble import GradientBoostingRegressor"
   ]
  },
  {
   "cell_type": "code",
   "execution_count": 104,
   "metadata": {},
   "outputs": [],
   "source": [
    "params = {'n_estimators': 500, # change to 4000 to achieve LB 0.511 - it runs too long in the kaggle kernel mode\n",
    "        'max_depth': 5,\n",
    "        'min_samples_split': 200, \n",
    "        'min_samples_leaf': 50,\n",
    "        'learning_rate': 0.005,\n",
    "        'max_features':  9,\n",
    "        'subsample': 0.8,\n",
    "        'loss': 'ls'}\n",
    "gbr = GradientBoostingRegressor(**params)"
   ]
  },
  {
   "cell_type": "code",
   "execution_count": 105,
   "metadata": {},
   "outputs": [
    {
     "data": {
      "text/plain": [
       "1267.0763818676357"
      ]
     },
     "execution_count": 105,
     "metadata": {},
     "output_type": "execute_result"
    }
   ],
   "source": [
    "gbr.fit(final_train,train_y)\n",
    "pred_gbr= gbr.predict(final_test)\n",
    "rf_mse = mean_squared_error(test_y,pred_rf)\n",
    "rfrmse=np.sqrt(rf_mse)\n",
    "rfrmse"
   ]
  },
  {
   "cell_type": "code",
   "execution_count": 106,
   "metadata": {},
   "outputs": [],
   "source": [
    "feature_importance=list(imp_feature[0:10])"
   ]
  },
  {
   "cell_type": "code",
   "execution_count": 203,
   "metadata": {},
   "outputs": [],
   "source": [
    "# Create submission file\n",
    "sub = pd.DataFrame()\n",
    "sub['EPAssetId'] = test['EPAssetsId']\n",
    "sub['TVD'] = pred_rf \n",
    "sub.to_csv('tvd_conqueros.csv', float_format='%.6f', index=False)"
   ]
  },
  {
   "cell_type": "code",
   "execution_count": null,
   "metadata": {},
   "outputs": [],
   "source": []
  }
 ],
 "metadata": {
  "kernelspec": {
   "display_name": "Python 3",
   "language": "python",
   "name": "python3"
  },
  "language_info": {
   "codemirror_mode": {
    "name": "ipython",
    "version": 3
   },
   "file_extension": ".py",
   "mimetype": "text/x-python",
   "name": "python",
   "nbconvert_exporter": "python",
   "pygments_lexer": "ipython3",
   "version": "3.7.4"
  }
 },
 "nbformat": 4,
 "nbformat_minor": 4
}
