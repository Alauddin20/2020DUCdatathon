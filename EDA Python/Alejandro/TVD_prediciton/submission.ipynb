{
 "cells": [
  {
   "cell_type": "code",
   "execution_count": 1,
   "metadata": {},
   "outputs": [],
   "source": [
    "import pandas as pd\n",
    "from sklearn.impute import SimpleImputer\n",
    "from sklearn.preprocessing import OneHotEncoder, StandardScaler, LabelEncoder\n",
    "from sklearn.pipeline import Pipeline\n",
    "from sklearn.compose import ColumnTransformer\n",
    "import matplotlib.pyplot as plt\n",
    "import numpy as np\n",
    "from sklearn.model_selection import train_test_split\n",
    "from sklearn.metrics import mean_squared_error,mean_absolute_error\n",
    "from sklearn.linear_model import LinearRegression\n",
    "from sklearn.ensemble import RandomForestRegressor\n",
    "from sklearn.ensemble import AdaBoostRegressor\n"
   ]
  },
  {
   "cell_type": "code",
   "execution_count": 2,
   "metadata": {},
   "outputs": [
    {
     "name": "stderr",
     "output_type": "stream",
     "text": [
      "/Users/alejocoy/opt/anaconda3/lib/python3.7/site-packages/IPython/core/interactiveshell.py:3063: DtypeWarning: Columns (24,26,27,28,52,54,55,56,80,81) have mixed types.Specify dtype option on import or set low_memory=False.\n",
      "  interactivity=interactivity, compiler=compiler, result=result)\n"
     ]
    }
   ],
   "source": [
    "data = pd.read_csv(\"../../../data/WellHeader_Datathon.csv\")"
   ]
  },
  {
   "cell_type": "markdown",
   "metadata": {},
   "source": [
    "# Clean data functions"
   ]
  },
  {
   "cell_type": "code",
   "execution_count": 3,
   "metadata": {},
   "outputs": [],
   "source": [
    "def clean_pipeline(df,column_selection=None):\n",
    "    ## Select objects to convert to category type \n",
    "    obj_cast_category = ['Province', 'CurrentOperator', 'CurrentOperatorParentName',\n",
    "   'Licensee', 'LicenseeParentCompanyName', 'CurrentStatus',\n",
    "   'CurrentStatusStandardised', 'WellType', 'WellTypeStandardised',\n",
    "   'Formation', 'Field', 'Pool', 'SurveySystem',\n",
    "   'Surf_Meridian', 'Surf_TownshipRange',\n",
    "   'Surf_QuarterUnit', 'Surf_Unit', 'Surf_Block', 'Surf_NTSMapSheet',\n",
    "   'Surf_Series', 'Surf_Area', 'Surf_Sheet', 'Surf_QuarterSection',\n",
    "   'BH_Location', 'BH_TownshipRange', 'BH_QuarterUnit', 'BH_Unit',\n",
    "   'BH_Block', 'BH_NTSMapSheet', 'BH_Series', 'BH_Area', 'BH_Sheet',\n",
    "   'BH_QuarterSection', 'BH_Meridian', 'LaheeClass', 'Confidential',\n",
    "   'SurfaceOwner', 'OSArea', 'OSDeposit', 'DrillingContractor',\n",
    "   'WellProfile', 'Country', 'RegulatoryAgency', 'PSACAreaCode',\n",
    "   'PSACAreaName', 'StatusSource', 'UnitID', 'UnitName', 'UnitFlag',\n",
    "   'Agent','Surf_LSD','Surf_Section','Surf_Township','Surf_Range','BH_LSD','BH_Section','BH_Township','BH_Range']\n",
    "    surface_columns=['Surf_LSD','Surf_Section','Surf_Township','Surf_Range','BH_LSD','BH_Section','BH_Township','BH_Range']\n",
    "    df[surface_columns]=df[surface_columns].astype(str)\n",
    "    df[obj_cast_category] = df[obj_cast_category].astype('category')\n",
    "    \n",
    "    df_s = df[column_selection]\n",
    "    df_s['TVD']= df['TVD']\n",
    "    return df_s\n",
    "\n",
    "def feature_eng(df):\n",
    "    y = df['TVD']\n",
    "    df.drop(columns='TVD',inplace=True)\n",
    "    #Categorical Values\n",
    "    cat_attributes =list(df.dtypes[df.dtypes != 'float64'][df.dtypes != 'int64'].index)\n",
    "    #Numerical Values\n",
    "    num_attributes=list(set(list(df.columns))-  set (cat_attributes))\n",
    "    df_num = df.drop(columns=cat_attributes)\n",
    "    df_cat = df.drop(columns=num_attributes)\n",
    "\n",
    "    #Replace missing values for Project Depth with median\n",
    "    imputer = SimpleImputer(strategy='median')\n",
    "    imputer.fit(df[['ProjectedDepth']])\n",
    "    df['ProjectedDepth']=imputer.transform(df[['ProjectedDepth']])\n",
    "\n",
    "    #One hot encoder for categories\n",
    "    ohe = OneHotEncoder(sparse=False)\n",
    "    df_ohe = ohe.fit_transform(df_cat)\n",
    "    columns_names= ohe.get_feature_names(cat_attributes)\n",
    "    df_cat = pd.DataFrame(df_ohe,columns=columns_names)\n",
    "\n",
    "    #Numerical pipeline, change normalize numerical values\n",
    "    num_pipline = Pipeline([\n",
    "        ('immputer', SimpleImputer(strategy='median')),\n",
    "        ('std_scales',StandardScaler())\n",
    "    ])\n",
    "    # pipeline for numberical \n",
    "    df_num1 =num_pipline.fit_transform(df_num)\n",
    "\n",
    "    #Join numerical and categorical dataframe\n",
    "    num = pd.DataFrame(df_num1,columns=df_num.columns)\n",
    "    pd_clean = pd.concat([num,df_cat],axis=1)\n",
    "    return pd_clean,y"
   ]
  },
  {
   "cell_type": "markdown",
   "metadata": {},
   "source": [
    "# Create Train and Test set"
   ]
  },
  {
   "cell_type": "code",
   "execution_count": 4,
   "metadata": {},
   "outputs": [
    {
     "name": "stderr",
     "output_type": "stream",
     "text": [
      "/Users/alejocoy/opt/anaconda3/lib/python3.7/site-packages/ipykernel_launcher.py:22: SettingWithCopyWarning: \n",
      "A value is trying to be set on a copy of a slice from a DataFrame.\n",
      "Try using .loc[row_indexer,col_indexer] = value instead\n",
      "\n",
      "See the caveats in the documentation: https://pandas.pydata.org/pandas-docs/stable/user_guide/indexing.html#returning-a-view-versus-a-copy\n"
     ]
    }
   ],
   "source": [
    "feature_selection = ['EPAssetsId','Surf_LSD','Surf_Section','Surf_Township','Surf_Range','Surf_Meridian','Surf_Longitude','Surf_Latitude','BH_Longitude','BH_Latitude','GroundElevation',\n",
    "                    'KBElevation','TotalDepth','Formation','WellType','BH_LSD','BH_Section','BH_Township','BH_Range','WellProfile','ProjectedDepth']\n",
    "well_header =  clean_pipeline(data,feature_selection)\n",
    "wh =well_header[~well_header.TVD.isna()]"
   ]
  },
  {
   "cell_type": "code",
   "execution_count": 5,
   "metadata": {},
   "outputs": [
    {
     "name": "stdout",
     "output_type": "stream",
     "text": [
      "<class 'pandas.core.frame.DataFrame'>\n",
      "Int64Index: 6731 entries, 1 to 10436\n",
      "Data columns (total 22 columns):\n",
      " #   Column           Non-Null Count  Dtype   \n",
      "---  ------           --------------  -----   \n",
      " 0   EPAssetsId       6731 non-null   int64   \n",
      " 1   Surf_LSD         6731 non-null   category\n",
      " 2   Surf_Section     6731 non-null   category\n",
      " 3   Surf_Township    6731 non-null   category\n",
      " 4   Surf_Range       6731 non-null   category\n",
      " 5   Surf_Meridian    6731 non-null   category\n",
      " 6   Surf_Longitude   6731 non-null   float64 \n",
      " 7   Surf_Latitude    6731 non-null   float64 \n",
      " 8   BH_Longitude     6731 non-null   float64 \n",
      " 9   BH_Latitude      6731 non-null   float64 \n",
      " 10  GroundElevation  6731 non-null   float64 \n",
      " 11  KBElevation      6731 non-null   float64 \n",
      " 12  TotalDepth       6731 non-null   float64 \n",
      " 13  Formation        6731 non-null   category\n",
      " 14  WellType         6731 non-null   category\n",
      " 15  BH_LSD           6731 non-null   category\n",
      " 16  BH_Section       6731 non-null   category\n",
      " 17  BH_Township      6731 non-null   category\n",
      " 18  BH_Range         6731 non-null   category\n",
      " 19  WellProfile      6731 non-null   category\n",
      " 20  ProjectedDepth   6424 non-null   float64 \n",
      " 21  TVD              6731 non-null   float64 \n",
      "dtypes: category(12), float64(9), int64(1)\n",
      "memory usage: 671.6 KB\n"
     ]
    }
   ],
   "source": [
    "wh.info()"
   ]
  },
  {
   "cell_type": "code",
   "execution_count": 6,
   "metadata": {},
   "outputs": [
    {
     "name": "stderr",
     "output_type": "stream",
     "text": [
      "/Users/alejocoy/opt/anaconda3/lib/python3.7/site-packages/pandas/core/frame.py:3997: SettingWithCopyWarning: \n",
      "A value is trying to be set on a copy of a slice from a DataFrame\n",
      "\n",
      "See the caveats in the documentation: https://pandas.pydata.org/pandas-docs/stable/user_guide/indexing.html#returning-a-view-versus-a-copy\n",
      "  errors=errors,\n",
      "/Users/alejocoy/opt/anaconda3/lib/python3.7/site-packages/ipykernel_launcher.py:38: SettingWithCopyWarning: \n",
      "A value is trying to be set on a copy of a slice from a DataFrame.\n",
      "Try using .loc[row_indexer,col_indexer] = value instead\n",
      "\n",
      "See the caveats in the documentation: https://pandas.pydata.org/pandas-docs/stable/user_guide/indexing.html#returning-a-view-versus-a-copy\n"
     ]
    }
   ],
   "source": [
    "train_df, train_y=feature_eng(wh) "
   ]
  },
  {
   "cell_type": "code",
   "execution_count": 7,
   "metadata": {},
   "outputs": [],
   "source": [
    "test_data = pd.read_csv(\"../../../data/Submission_Sample.csv\")"
   ]
  },
  {
   "cell_type": "code",
   "execution_count": 8,
   "metadata": {},
   "outputs": [],
   "source": [
    "test = well_header[well_header['EPAssetsId'].isin(test_data['EPAssetsId'])].drop(columns='TVD')\n",
    "test = pd.merge(test,test_data, on='EPAssetsId')\n",
    "test.to_csv('test1.csv',index=False)"
   ]
  },
  {
   "cell_type": "code",
   "execution_count": 9,
   "metadata": {},
   "outputs": [],
   "source": [
    "test_df,test_y = feature_eng(test)"
   ]
  },
  {
   "cell_type": "code",
   "execution_count": 10,
   "metadata": {},
   "outputs": [],
   "source": [
    "final_train, final_test = train_df.align(test_df, join='inner', axis=1,fill_value=0)"
   ]
  },
  {
   "cell_type": "code",
   "execution_count": 11,
   "metadata": {},
   "outputs": [
    {
     "data": {
      "text/plain": [
       "((6731, 292), (1963, 292))"
      ]
     },
     "execution_count": 11,
     "metadata": {},
     "output_type": "execute_result"
    }
   ],
   "source": [
    "final_train.shape,final_test.shape"
   ]
  },
  {
   "cell_type": "markdown",
   "metadata": {},
   "source": [
    "ML Models"
   ]
  },
  {
   "cell_type": "code",
   "execution_count": 12,
   "metadata": {},
   "outputs": [
    {
     "data": {
      "text/plain": [
       "1525092545320.1345"
      ]
     },
     "execution_count": 12,
     "metadata": {},
     "output_type": "execute_result"
    }
   ],
   "source": [
    "lin_reg = LinearRegression()\n",
    "lin_reg.fit(final_train,train_y)\n",
    "pred= lin_reg.predict(final_test)\n",
    "lin_mse = mean_squared_error(test_y,pred)\n",
    "linrmse=np.sqrt(lin_mse)\n",
    "linrmse"
   ]
  },
  {
   "cell_type": "code",
   "execution_count": 13,
   "metadata": {},
   "outputs": [
    {
     "data": {
      "text/plain": [
       "1268.1827125669765"
      ]
     },
     "execution_count": 13,
     "metadata": {},
     "output_type": "execute_result"
    }
   ],
   "source": [
    "rf_reg = RandomForestRegressor()\n",
    "rf_reg.fit(final_train,train_y)\n",
    "pred_rf= rf_reg.predict(final_test)\n",
    "rf_mse = mean_squared_error(test_y,pred_rf)\n",
    "rfrmse=np.sqrt(rf_mse)\n",
    "rfrmse"
   ]
  },
  {
   "cell_type": "code",
   "execution_count": 14,
   "metadata": {},
   "outputs": [
    {
     "data": {
      "text/plain": [
       "<BarContainer object of 10 artists>"
      ]
     },
     "execution_count": 14,
     "metadata": {},
     "output_type": "execute_result"
    },
    {
     "data": {
      "image/png": "[encoded data removed]",
      "text/plain": [
       "<Figure size 1080x360 with 1 Axes>"
      ]
     },
     "metadata": {
      "needs_background": "light"
     },
     "output_type": "display_data"
    }
   ],
   "source": [
    "feature_importance=rf_reg.feature_importances_\n",
    "importances=pd.DataFrame(final_train.columns,feature_importance,columns=['Feature']).reset_index()\n",
    "importances.columns = ['weight','Feature']\n",
    "importances = importances.sort_values(['weight'],ascending=False)\n",
    "imp_plot = importances.iloc[:10]\n",
    "imp_feature = importances['Feature']\n",
    "fig = plt.figure(figsize=(15,5))\n",
    "plt.title('Ten most Predictive Features')\n",
    "plt.bar(imp_plot['Feature'],imp_plot['weight'])"
   ]
  },
  {
   "cell_type": "code",
   "execution_count": 18,
   "metadata": {},
   "outputs": [],
   "source": [
    "feature_importance=list(imp_feature[0:10])"
   ]
  },
  {
   "cell_type": "code",
   "execution_count": 15,
   "metadata": {},
   "outputs": [],
   "source": [
    "from sklearn.ensemble import GradientBoostingRegressor"
   ]
  },
  {
   "cell_type": "code",
   "execution_count": 116,
   "metadata": {},
   "outputs": [],
   "source": [
    "params = {'n_estimators': 100, # change to 4000 to achieve LB 0.511 - it runs too long in the kaggle kernel mode\n",
    "        'max_depth': 3,\n",
    "        'min_samples_split': 10, \n",
    "        'min_samples_leaf': 10,\n",
    "        'learning_rate': 0.001,\n",
    "        'max_features': 15,\n",
    "        'subsample': 0.8,\n",
    "        'loss': 'ls'}\n",
    "gbr = GradientBoostingRegressor(**params)"
   ]
  },
  {
   "cell_type": "code",
   "execution_count": 117,
   "metadata": {},
   "outputs": [
    {
     "data": {
      "text/plain": [
       "712.8544169706204"
      ]
     },
     "execution_count": 117,
     "metadata": {},
     "output_type": "execute_result"
    }
   ],
   "source": [
    "gbr.fit(final_train,train_y)\n",
    "pred_gbr= gbr.predict(final_test)\n",
    "gbr_mse = mean_squared_error(test_y,pred_gbr)\n",
    "gbrrmse=np.sqrt(gbr_mse)\n",
    "gbrrmse"
   ]
  },
  {
   "cell_type": "code",
   "execution_count": 21,
   "metadata": {},
   "outputs": [
    {
     "data": {
      "text/plain": [
       "GridSearchCV(cv=5, estimator=GradientBoostingRegressor(),\n",
       "             param_grid=[{'max_features': [2, 5, 9, 25],\n",
       "                          'min_samples_split': [50, 100, 200, 500],\n",
       "                          'n_estimators': [500, 1000, 2000]}],\n",
       "             return_train_score=True, scoring='neg_root_mean_squared_error')"
      ]
     },
     "execution_count": 21,
     "metadata": {},
     "output_type": "execute_result"
    }
   ],
   "source": [
    "from sklearn.model_selection import GridSearchCV\n",
    "param_grid =[\n",
    "    {'n_estimators':[500,1000,2000],'max_features': [2,5,9,25],'min_samples_split': [50,100,200,500] },\n",
    "    ]\n",
    "gbr1=GradientBoostingRegressor()\n",
    "grid_search = GridSearchCV(gbr1,param_grid,cv=5, scoring=\"neg_root_mean_squared_error\"\n",
    "                          ,return_train_score=True)\n",
    "grid_search.fit(final_train, train_y)\n",
    "\n"
   ]
  },
  {
   "cell_type": "code",
   "execution_count": 22,
   "metadata": {},
   "outputs": [
    {
     "data": {
      "text/plain": [
       "{'max_features': 25, 'min_samples_split': 200, 'n_estimators': 2000}"
      ]
     },
     "execution_count": 22,
     "metadata": {},
     "output_type": "execute_result"
    }
   ],
   "source": [
    "grid_search.best_params_"
   ]
  },
  {
   "cell_type": "code",
   "execution_count": 33,
   "metadata": {},
   "outputs": [
    {
     "data": {
      "text/plain": [
       "GradientBoostingRegressor(max_features=25, min_samples_split=200,\n",
       "                          n_estimators=2000)"
      ]
     },
     "execution_count": 33,
     "metadata": {},
     "output_type": "execute_result"
    }
   ],
   "source": [
    "grid_search.best_estimator_"
   ]
  },
  {
   "cell_type": "code",
   "execution_count": 27,
   "metadata": {},
   "outputs": [],
   "source": [
    "cvres= grid_search.cv_results_"
   ]
  },
  {
   "cell_type": "code",
   "execution_count": 28,
   "metadata": {},
   "outputs": [
    {
     "name": "stdout",
     "output_type": "stream",
     "text": [
      "13.6543836970692 {'max_features': 2, 'min_samples_split': 50, 'n_estimators': 500}\n",
      "12.582971417262188 {'max_features': 2, 'min_samples_split': 50, 'n_estimators': 1000}\n",
      "11.835185877079606 {'max_features': 2, 'min_samples_split': 50, 'n_estimators': 2000}\n",
      "13.174284646007482 {'max_features': 2, 'min_samples_split': 100, 'n_estimators': 500}\n",
      "12.503117572525676 {'max_features': 2, 'min_samples_split': 100, 'n_estimators': 1000}\n",
      "11.808726458431758 {'max_features': 2, 'min_samples_split': 100, 'n_estimators': 2000}\n",
      "13.496317590712104 {'max_features': 2, 'min_samples_split': 200, 'n_estimators': 500}\n",
      "12.401326937862022 {'max_features': 2, 'min_samples_split': 200, 'n_estimators': 1000}\n",
      "11.668234490829057 {'max_features': 2, 'min_samples_split': 200, 'n_estimators': 2000}\n",
      "13.605066789934336 {'max_features': 2, 'min_samples_split': 500, 'n_estimators': 500}\n",
      "12.793541109542433 {'max_features': 2, 'min_samples_split': 500, 'n_estimators': 1000}\n",
      "11.54029155367702 {'max_features': 2, 'min_samples_split': 500, 'n_estimators': 2000}\n",
      "11.842317816912518 {'max_features': 5, 'min_samples_split': 50, 'n_estimators': 500}\n",
      "10.98240676945325 {'max_features': 5, 'min_samples_split': 50, 'n_estimators': 1000}\n",
      "10.573075150388572 {'max_features': 5, 'min_samples_split': 50, 'n_estimators': 2000}\n",
      "11.551229190816219 {'max_features': 5, 'min_samples_split': 100, 'n_estimators': 500}\n",
      "11.214897150442818 {'max_features': 5, 'min_samples_split': 100, 'n_estimators': 1000}\n",
      "10.771732717666456 {'max_features': 5, 'min_samples_split': 100, 'n_estimators': 2000}\n",
      "11.661552607946172 {'max_features': 5, 'min_samples_split': 200, 'n_estimators': 500}\n",
      "11.287828415852848 {'max_features': 5, 'min_samples_split': 200, 'n_estimators': 1000}\n",
      "10.824725308119747 {'max_features': 5, 'min_samples_split': 200, 'n_estimators': 2000}\n",
      "11.852424042164175 {'max_features': 5, 'min_samples_split': 500, 'n_estimators': 500}\n",
      "11.577973546947389 {'max_features': 5, 'min_samples_split': 500, 'n_estimators': 1000}\n",
      "10.651888568024413 {'max_features': 5, 'min_samples_split': 500, 'n_estimators': 2000}\n",
      "10.640316514040757 {'max_features': 9, 'min_samples_split': 50, 'n_estimators': 500}\n",
      "10.662992865146279 {'max_features': 9, 'min_samples_split': 50, 'n_estimators': 1000}\n",
      "10.19931388886124 {'max_features': 9, 'min_samples_split': 50, 'n_estimators': 2000}\n",
      "11.045282391255201 {'max_features': 9, 'min_samples_split': 100, 'n_estimators': 500}\n",
      "10.478862369312468 {'max_features': 9, 'min_samples_split': 100, 'n_estimators': 1000}\n",
      "10.14702690846702 {'max_features': 9, 'min_samples_split': 100, 'n_estimators': 2000}\n",
      "11.141372232204482 {'max_features': 9, 'min_samples_split': 200, 'n_estimators': 500}\n",
      "10.569845143889882 {'max_features': 9, 'min_samples_split': 200, 'n_estimators': 1000}\n",
      "10.11212228237914 {'max_features': 9, 'min_samples_split': 200, 'n_estimators': 2000}\n",
      "11.202971802518448 {'max_features': 9, 'min_samples_split': 500, 'n_estimators': 500}\n",
      "10.470852413186709 {'max_features': 9, 'min_samples_split': 500, 'n_estimators': 1000}\n",
      "10.030545699037381 {'max_features': 9, 'min_samples_split': 500, 'n_estimators': 2000}\n",
      "10.051509054104066 {'max_features': 25, 'min_samples_split': 50, 'n_estimators': 500}\n",
      "9.72464293464765 {'max_features': 25, 'min_samples_split': 50, 'n_estimators': 1000}\n",
      "9.790845703442203 {'max_features': 25, 'min_samples_split': 50, 'n_estimators': 2000}\n",
      "10.13266637616522 {'max_features': 25, 'min_samples_split': 100, 'n_estimators': 500}\n",
      "9.797410759725013 {'max_features': 25, 'min_samples_split': 100, 'n_estimators': 1000}\n",
      "9.700156528035706 {'max_features': 25, 'min_samples_split': 100, 'n_estimators': 2000}\n",
      "10.336128876725237 {'max_features': 25, 'min_samples_split': 200, 'n_estimators': 500}\n",
      "9.577900447976758 {'max_features': 25, 'min_samples_split': 200, 'n_estimators': 1000}\n",
      "9.464595205415575 {'max_features': 25, 'min_samples_split': 200, 'n_estimators': 2000}\n",
      "10.367444669308728 {'max_features': 25, 'min_samples_split': 500, 'n_estimators': 500}\n",
      "9.58600662683804 {'max_features': 25, 'min_samples_split': 500, 'n_estimators': 1000}\n",
      "9.584105849934186 {'max_features': 25, 'min_samples_split': 500, 'n_estimators': 2000}\n"
     ]
    }
   ],
   "source": [
    "for mean_score,params in zip(cvres['mean_test_score'],cvres['params']):\n",
    "    print(np.sqrt(-mean_score),params)"
   ]
  },
  {
   "cell_type": "code",
   "execution_count": 203,
   "metadata": {},
   "outputs": [],
   "source": [
    "# Create submission file\n",
    "sub = pd.DataFrame()\n",
    "sub['EPAssetId'] = test['EPAssetsId']\n",
    "sub['TVD'] = pred_rf \n",
    "sub.to_csv('tvd_conqueros.csv', float_format='%.6f', index=False)"
   ]
  },
  {
   "cell_type": "code",
   "execution_count": null,
   "metadata": {},
   "outputs": [],
   "source": []
  }
 ],
 "metadata": {
  "kernelspec": {
   "display_name": "Python 3",
   "language": "python",
   "name": "python3"
  },
  "language_info": {
   "codemirror_mode": {
    "name": "ipython",
    "version": 3
   },
   "file_extension": ".py",
   "mimetype": "text/x-python",
   "name": "python",
   "nbconvert_exporter": "python",
   "pygments_lexer": "ipython3",
   "version": "3.7.4"
  }
 },
 "nbformat": 4,
 "nbformat_minor": 4
}
