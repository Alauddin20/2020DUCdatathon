{
 "cells": [
  {
   "cell_type": "code",
   "execution_count": 1,
   "metadata": {
    "colab": {},
    "colab_type": "code",
    "collapsed": true,
    "id": "sYTE2sND6kEe",
    "jupyter": {
     "outputs_hidden": true
    }
   },
   "outputs": [
    {
     "name": "stdout",
     "output_type": "stream",
     "text": [
      "Collecting fastai2\n",
      "  Downloading fastai2-0.0.21-py3-none-any.whl (176 kB)\n",
      "\u001b[K     |████████████████████████████████| 176 kB 962 kB/s eta 0:00:01\n",
      "\u001b[?25hRequirement already satisfied: scikit-learn in /Users/alejocoy/opt/anaconda3/lib/python3.7/site-packages (from fastai2) (0.23.1)\n",
      "Requirement already satisfied: pyyaml in /Users/alejocoy/opt/anaconda3/lib/python3.7/site-packages (from fastai2) (5.3.1)\n",
      "Collecting torchvision>=0.7\n",
      "  Downloading torchvision-0.7.0-cp37-cp37m-macosx_10_9_x86_64.whl (387 kB)\n",
      "\u001b[K     |████████████████████████████████| 387 kB 5.5 MB/s eta 0:00:01\n",
      "\u001b[?25hRequirement already satisfied: requests in /Users/alejocoy/opt/anaconda3/lib/python3.7/site-packages (from fastai2) (2.24.0)\n",
      "Collecting spacy\n",
      "  Downloading spacy-2.3.2-cp37-cp37m-macosx_10_9_x86_64.whl (10.0 MB)\n",
      "\u001b[K     |████████████████████████████████| 10.0 MB 5.4 MB/s eta 0:00:01\n",
      "\u001b[?25hRequirement already satisfied: pandas in /Users/alejocoy/opt/anaconda3/lib/python3.7/site-packages (from fastai2) (1.0.5)\n",
      "Collecting fastcore>=0.1.20\n",
      "  Downloading fastcore-0.1.23-py3-none-any.whl (29 kB)\n",
      "Requirement already satisfied: pillow in /Users/alejocoy/opt/anaconda3/lib/python3.7/site-packages (from fastai2) (7.1.2)\n",
      "Collecting fastprogress>=0.2.4\n",
      "  Downloading fastprogress-0.2.4-py3-none-any.whl (12 kB)\n",
      "Requirement already satisfied: scipy in /Users/alejocoy/opt/anaconda3/lib/python3.7/site-packages (from fastai2) (1.5.0)\n",
      "Collecting torch>=1.6.0\n",
      "  Downloading torch-1.6.0-cp37-none-macosx_10_9_x86_64.whl (97.4 MB)\n",
      "\u001b[K     |████████████████████████████████| 97.4 MB 12.7 MB/s eta 0:00:01\n",
      "\u001b[?25hRequirement already satisfied: matplotlib in /Users/alejocoy/opt/anaconda3/lib/python3.7/site-packages (from fastai2) (3.2.2)\n",
      "Requirement already satisfied: numpy>=1.13.3 in /Users/alejocoy/opt/anaconda3/lib/python3.7/site-packages (from scikit-learn->fastai2) (1.18.5)\n",
      "Requirement already satisfied: threadpoolctl>=2.0.0 in /Users/alejocoy/opt/anaconda3/lib/python3.7/site-packages (from scikit-learn->fastai2) (2.1.0)\n",
      "Requirement already satisfied: joblib>=0.11 in /Users/alejocoy/opt/anaconda3/lib/python3.7/site-packages (from scikit-learn->fastai2) (0.15.1)\n",
      "Requirement already satisfied: idna<3,>=2.5 in /Users/alejocoy/opt/anaconda3/lib/python3.7/site-packages (from requests->fastai2) (2.9)\n",
      "Requirement already satisfied: chardet<4,>=3.0.2 in /Users/alejocoy/opt/anaconda3/lib/python3.7/site-packages (from requests->fastai2) (3.0.4)\n",
      "Requirement already satisfied: certifi>=2017.4.17 in /Users/alejocoy/opt/anaconda3/lib/python3.7/site-packages (from requests->fastai2) (2020.6.20)\n",
      "Requirement already satisfied: urllib3!=1.25.0,!=1.25.1,<1.26,>=1.21.1 in /Users/alejocoy/opt/anaconda3/lib/python3.7/site-packages (from requests->fastai2) (1.25.9)\n",
      "Collecting plac<1.2.0,>=0.9.6\n",
      "  Downloading plac-1.1.3-py2.py3-none-any.whl (20 kB)\n",
      "Collecting catalogue<1.1.0,>=0.0.7\n",
      "  Downloading catalogue-1.0.0-py2.py3-none-any.whl (7.7 kB)\n",
      "Collecting cymem<2.1.0,>=2.0.2\n",
      "  Downloading cymem-2.0.3-cp37-cp37m-macosx_10_6_intel.whl (54 kB)\n",
      "\u001b[K     |████████████████████████████████| 54 kB 5.7 MB/s  eta 0:00:01\n",
      "\u001b[?25hRequirement already satisfied: tqdm<5.0.0,>=4.38.0 in /Users/alejocoy/opt/anaconda3/lib/python3.7/site-packages (from spacy->fastai2) (4.46.1)\n",
      "Collecting blis<0.5.0,>=0.4.0\n",
      "  Downloading blis-0.4.1-cp37-cp37m-macosx_10_6_intel.macosx_10_9_intel.macosx_10_9_x86_64.macosx_10_10_intel.macosx_10_10_x86_64.whl (4.0 MB)\n",
      "\u001b[K     |████████████████████████████████| 4.0 MB 10.7 MB/s eta 0:00:01\n",
      "\u001b[?25hRequirement already satisfied: setuptools in /Users/alejocoy/opt/anaconda3/lib/python3.7/site-packages (from spacy->fastai2) (47.3.1.post20200622)\n",
      "Collecting srsly<1.1.0,>=1.0.2\n",
      "  Downloading srsly-1.0.2-cp37-cp37m-macosx_10_9_x86_64.whl (182 kB)\n",
      "\u001b[K     |████████████████████████████████| 182 kB 18.6 MB/s eta 0:00:01\n",
      "\u001b[?25hCollecting thinc==7.4.1\n",
      "  Downloading thinc-7.4.1-cp37-cp37m-macosx_10_9_x86_64.whl (2.1 MB)\n",
      "\u001b[K     |████████████████████████████████| 2.1 MB 12.9 MB/s eta 0:00:01\n",
      "\u001b[?25hCollecting preshed<3.1.0,>=3.0.2\n",
      "  Downloading preshed-3.0.2-cp37-cp37m-macosx_10_6_intel.macosx_10_9_intel.macosx_10_9_x86_64.macosx_10_10_intel.macosx_10_10_x86_64.whl (211 kB)\n",
      "\u001b[K     |████████████████████████████████| 211 kB 15.6 MB/s eta 0:00:01\n",
      "\u001b[?25hCollecting murmurhash<1.1.0,>=0.28.0\n",
      "  Downloading murmurhash-1.0.2-cp37-cp37m-macosx_10_6_intel.macosx_10_9_intel.macosx_10_9_x86_64.macosx_10_10_intel.macosx_10_10_x86_64.whl (34 kB)\n",
      "Collecting wasabi<1.1.0,>=0.4.0\n",
      "  Downloading wasabi-0.7.1.tar.gz (22 kB)\n",
      "Requirement already satisfied: pytz>=2017.2 in /Users/alejocoy/opt/anaconda3/lib/python3.7/site-packages (from pandas->fastai2) (2020.1)\n",
      "Requirement already satisfied: python-dateutil>=2.6.1 in /Users/alejocoy/opt/anaconda3/lib/python3.7/site-packages (from pandas->fastai2) (2.8.1)\n",
      "Requirement already satisfied: future in /Users/alejocoy/opt/anaconda3/lib/python3.7/site-packages (from torch>=1.6.0->fastai2) (0.18.2)\n",
      "Requirement already satisfied: kiwisolver>=1.0.1 in /Users/alejocoy/opt/anaconda3/lib/python3.7/site-packages (from matplotlib->fastai2) (1.2.0)\n",
      "Requirement already satisfied: pyparsing!=2.0.4,!=2.1.2,!=2.1.6,>=2.0.1 in /Users/alejocoy/opt/anaconda3/lib/python3.7/site-packages (from matplotlib->fastai2) (2.4.7)\n",
      "Requirement already satisfied: cycler>=0.10 in /Users/alejocoy/opt/anaconda3/lib/python3.7/site-packages (from matplotlib->fastai2) (0.10.0)\n",
      "Requirement already satisfied: importlib-metadata>=0.20; python_version < \"3.8\" in /Users/alejocoy/opt/anaconda3/lib/python3.7/site-packages (from catalogue<1.1.0,>=0.0.7->spacy->fastai2) (1.6.1)\n",
      "Requirement already satisfied: six>=1.5 in /Users/alejocoy/opt/anaconda3/lib/python3.7/site-packages (from python-dateutil>=2.6.1->pandas->fastai2) (1.15.0)\n",
      "Requirement already satisfied: zipp>=0.5 in /Users/alejocoy/opt/anaconda3/lib/python3.7/site-packages (from importlib-metadata>=0.20; python_version < \"3.8\"->catalogue<1.1.0,>=0.0.7->spacy->fastai2) (3.1.0)\n",
      "Building wheels for collected packages: wasabi\n",
      "  Building wheel for wasabi (setup.py) ... \u001b[?25ldone\n",
      "\u001b[?25h  Created wheel for wasabi: filename=wasabi-0.7.1-py3-none-any.whl size=20834 sha256=7915d005e28cd28fbbfbc0a7746c8e8c8d7a2c5787f1deba8f98cc311bf4aa84\n",
      "  Stored in directory: /Users/alejocoy/Library/Caches/pip/wheels/dc/5e/d4/727b6213e9ebec502ff1bf5998f4a83fef87c3aace8a492243\n",
      "Successfully built wasabi\n",
      "Installing collected packages: torch, torchvision, plac, catalogue, cymem, blis, srsly, murmurhash, preshed, wasabi, thinc, spacy, fastcore, fastprogress, fastai2\n",
      "Successfully installed blis-0.4.1 catalogue-1.0.0 cymem-2.0.3 fastai2-0.0.21 fastcore-0.1.23 fastprogress-0.2.4 murmurhash-1.0.2 plac-1.1.3 preshed-3.0.2 spacy-2.3.2 srsly-1.0.2 thinc-7.4.1 torch-1.6.0 torchvision-0.7.0 wasabi-0.7.1\n",
      "Note: you may need to restart the kernel to use updated packages.\n"
     ]
    }
   ],
   "source": [
    "pip install fastai2"
   ]
  },
  {
   "cell_type": "markdown",
   "metadata": {},
   "source": [
    "# Before Start:\n",
    "## Run this in google Colab and make sure to Slect GPU in running Time"
   ]
  },
  {
   "cell_type": "code",
   "execution_count": 4,
   "metadata": {
    "colab": {},
    "colab_type": "code",
    "executionInfo": {
     "elapsed": 388,
     "status": "ok",
     "timestamp": 1596655513838,
     "user": {
      "displayName": "Alejandro Coy",
      "photoUrl": "",
      "userId": "09424451745819853121"
     },
     "user_tz": 360
    },
    "id": "XU6Vid7B6kEh"
   },
   "outputs": [],
   "source": [
    "from fastai2.tabular.all import *\n",
    "from sklearn.ensemble import RandomForestRegressor\n",
    "from sklearn.preprocessing import StandardScaler"
   ]
  },
  {
   "cell_type": "markdown",
   "metadata": {
    "colab_type": "text",
    "collapsed": "true",
    "id": "8XupMeeA6kEj"
   },
   "source": [
    "## The Data:"
   ]
  },
  {
   "cell_type": "code",
   "execution_count": 5,
   "metadata": {
    "colab": {},
    "colab_type": "code",
    "collapsed": true,
    "executionInfo": {
     "elapsed": 526,
     "status": "ok",
     "timestamp": 1596657512266,
     "user": {
      "displayName": "Alejandro Coy",
      "photoUrl": "",
      "userId": "09424451745819853121"
     },
     "user_tz": 360
    },
    "id": "UARnTea47V96",
    "jupyter": {
     "outputs_hidden": true
    }
   },
   "outputs": [
    {
     "ename": "FileNotFoundError",
     "evalue": "[Errno 2] File well_header0.csv does not exist: 'well_header0.csv'",
     "output_type": "error",
     "traceback": [
      "\u001b[0;31m---------------------------------------------------------------------------\u001b[0m",
      "\u001b[0;31mFileNotFoundError\u001b[0m                         Traceback (most recent call last)",
      "\u001b[0;32m<ipython-input-5-b43011090a83>\u001b[0m in \u001b[0;36m<module>\u001b[0;34m\u001b[0m\n\u001b[0;32m----> 1\u001b[0;31m \u001b[0mdf\u001b[0m \u001b[0;34m=\u001b[0m \u001b[0mpd\u001b[0m\u001b[0;34m.\u001b[0m\u001b[0mread_csv\u001b[0m\u001b[0;34m(\u001b[0m\u001b[0;34m'well_header0.csv'\u001b[0m\u001b[0;34m)\u001b[0m\u001b[0;34m\u001b[0m\u001b[0;34m\u001b[0m\u001b[0m\n\u001b[0m\u001b[1;32m      2\u001b[0m \u001b[0mtest_df\u001b[0m\u001b[0;34m=\u001b[0m \u001b[0mpd\u001b[0m\u001b[0;34m.\u001b[0m\u001b[0mread_csv\u001b[0m\u001b[0;34m(\u001b[0m\u001b[0;34m'test0.csv'\u001b[0m\u001b[0;34m)\u001b[0m\u001b[0;34m\u001b[0m\u001b[0;34m\u001b[0m\u001b[0m\n",
      "\u001b[0;32m~/opt/anaconda3/lib/python3.7/site-packages/pandas/io/parsers.py\u001b[0m in \u001b[0;36mparser_f\u001b[0;34m(filepath_or_buffer, sep, delimiter, header, names, index_col, usecols, squeeze, prefix, mangle_dupe_cols, dtype, engine, converters, true_values, false_values, skipinitialspace, skiprows, skipfooter, nrows, na_values, keep_default_na, na_filter, verbose, skip_blank_lines, parse_dates, infer_datetime_format, keep_date_col, date_parser, dayfirst, cache_dates, iterator, chunksize, compression, thousands, decimal, lineterminator, quotechar, quoting, doublequote, escapechar, comment, encoding, dialect, error_bad_lines, warn_bad_lines, delim_whitespace, low_memory, memory_map, float_precision)\u001b[0m\n\u001b[1;32m    674\u001b[0m         )\n\u001b[1;32m    675\u001b[0m \u001b[0;34m\u001b[0m\u001b[0m\n\u001b[0;32m--> 676\u001b[0;31m         \u001b[0;32mreturn\u001b[0m \u001b[0m_read\u001b[0m\u001b[0;34m(\u001b[0m\u001b[0mfilepath_or_buffer\u001b[0m\u001b[0;34m,\u001b[0m \u001b[0mkwds\u001b[0m\u001b[0;34m)\u001b[0m\u001b[0;34m\u001b[0m\u001b[0;34m\u001b[0m\u001b[0m\n\u001b[0m\u001b[1;32m    677\u001b[0m \u001b[0;34m\u001b[0m\u001b[0m\n\u001b[1;32m    678\u001b[0m     \u001b[0mparser_f\u001b[0m\u001b[0;34m.\u001b[0m\u001b[0m__name__\u001b[0m \u001b[0;34m=\u001b[0m \u001b[0mname\u001b[0m\u001b[0;34m\u001b[0m\u001b[0;34m\u001b[0m\u001b[0m\n",
      "\u001b[0;32m~/opt/anaconda3/lib/python3.7/site-packages/pandas/io/parsers.py\u001b[0m in \u001b[0;36m_read\u001b[0;34m(filepath_or_buffer, kwds)\u001b[0m\n\u001b[1;32m    446\u001b[0m \u001b[0;34m\u001b[0m\u001b[0m\n\u001b[1;32m    447\u001b[0m     \u001b[0;31m# Create the parser.\u001b[0m\u001b[0;34m\u001b[0m\u001b[0;34m\u001b[0m\u001b[0;34m\u001b[0m\u001b[0m\n\u001b[0;32m--> 448\u001b[0;31m     \u001b[0mparser\u001b[0m \u001b[0;34m=\u001b[0m \u001b[0mTextFileReader\u001b[0m\u001b[0;34m(\u001b[0m\u001b[0mfp_or_buf\u001b[0m\u001b[0;34m,\u001b[0m \u001b[0;34m**\u001b[0m\u001b[0mkwds\u001b[0m\u001b[0;34m)\u001b[0m\u001b[0;34m\u001b[0m\u001b[0;34m\u001b[0m\u001b[0m\n\u001b[0m\u001b[1;32m    449\u001b[0m \u001b[0;34m\u001b[0m\u001b[0m\n\u001b[1;32m    450\u001b[0m     \u001b[0;32mif\u001b[0m \u001b[0mchunksize\u001b[0m \u001b[0;32mor\u001b[0m \u001b[0miterator\u001b[0m\u001b[0;34m:\u001b[0m\u001b[0;34m\u001b[0m\u001b[0;34m\u001b[0m\u001b[0m\n",
      "\u001b[0;32m~/opt/anaconda3/lib/python3.7/site-packages/pandas/io/parsers.py\u001b[0m in \u001b[0;36m__init__\u001b[0;34m(self, f, engine, **kwds)\u001b[0m\n\u001b[1;32m    878\u001b[0m             \u001b[0mself\u001b[0m\u001b[0;34m.\u001b[0m\u001b[0moptions\u001b[0m\u001b[0;34m[\u001b[0m\u001b[0;34m\"has_index_names\"\u001b[0m\u001b[0;34m]\u001b[0m \u001b[0;34m=\u001b[0m \u001b[0mkwds\u001b[0m\u001b[0;34m[\u001b[0m\u001b[0;34m\"has_index_names\"\u001b[0m\u001b[0;34m]\u001b[0m\u001b[0;34m\u001b[0m\u001b[0;34m\u001b[0m\u001b[0m\n\u001b[1;32m    879\u001b[0m \u001b[0;34m\u001b[0m\u001b[0m\n\u001b[0;32m--> 880\u001b[0;31m         \u001b[0mself\u001b[0m\u001b[0;34m.\u001b[0m\u001b[0m_make_engine\u001b[0m\u001b[0;34m(\u001b[0m\u001b[0mself\u001b[0m\u001b[0;34m.\u001b[0m\u001b[0mengine\u001b[0m\u001b[0;34m)\u001b[0m\u001b[0;34m\u001b[0m\u001b[0;34m\u001b[0m\u001b[0m\n\u001b[0m\u001b[1;32m    881\u001b[0m \u001b[0;34m\u001b[0m\u001b[0m\n\u001b[1;32m    882\u001b[0m     \u001b[0;32mdef\u001b[0m \u001b[0mclose\u001b[0m\u001b[0;34m(\u001b[0m\u001b[0mself\u001b[0m\u001b[0;34m)\u001b[0m\u001b[0;34m:\u001b[0m\u001b[0;34m\u001b[0m\u001b[0;34m\u001b[0m\u001b[0m\n",
      "\u001b[0;32m~/opt/anaconda3/lib/python3.7/site-packages/pandas/io/parsers.py\u001b[0m in \u001b[0;36m_make_engine\u001b[0;34m(self, engine)\u001b[0m\n\u001b[1;32m   1112\u001b[0m     \u001b[0;32mdef\u001b[0m \u001b[0m_make_engine\u001b[0m\u001b[0;34m(\u001b[0m\u001b[0mself\u001b[0m\u001b[0;34m,\u001b[0m \u001b[0mengine\u001b[0m\u001b[0;34m=\u001b[0m\u001b[0;34m\"c\"\u001b[0m\u001b[0;34m)\u001b[0m\u001b[0;34m:\u001b[0m\u001b[0;34m\u001b[0m\u001b[0;34m\u001b[0m\u001b[0m\n\u001b[1;32m   1113\u001b[0m         \u001b[0;32mif\u001b[0m \u001b[0mengine\u001b[0m \u001b[0;34m==\u001b[0m \u001b[0;34m\"c\"\u001b[0m\u001b[0;34m:\u001b[0m\u001b[0;34m\u001b[0m\u001b[0;34m\u001b[0m\u001b[0m\n\u001b[0;32m-> 1114\u001b[0;31m             \u001b[0mself\u001b[0m\u001b[0;34m.\u001b[0m\u001b[0m_engine\u001b[0m \u001b[0;34m=\u001b[0m \u001b[0mCParserWrapper\u001b[0m\u001b[0;34m(\u001b[0m\u001b[0mself\u001b[0m\u001b[0;34m.\u001b[0m\u001b[0mf\u001b[0m\u001b[0;34m,\u001b[0m \u001b[0;34m**\u001b[0m\u001b[0mself\u001b[0m\u001b[0;34m.\u001b[0m\u001b[0moptions\u001b[0m\u001b[0;34m)\u001b[0m\u001b[0;34m\u001b[0m\u001b[0;34m\u001b[0m\u001b[0m\n\u001b[0m\u001b[1;32m   1115\u001b[0m         \u001b[0;32melse\u001b[0m\u001b[0;34m:\u001b[0m\u001b[0;34m\u001b[0m\u001b[0;34m\u001b[0m\u001b[0m\n\u001b[1;32m   1116\u001b[0m             \u001b[0;32mif\u001b[0m \u001b[0mengine\u001b[0m \u001b[0;34m==\u001b[0m \u001b[0;34m\"python\"\u001b[0m\u001b[0;34m:\u001b[0m\u001b[0;34m\u001b[0m\u001b[0;34m\u001b[0m\u001b[0m\n",
      "\u001b[0;32m~/opt/anaconda3/lib/python3.7/site-packages/pandas/io/parsers.py\u001b[0m in \u001b[0;36m__init__\u001b[0;34m(self, src, **kwds)\u001b[0m\n\u001b[1;32m   1889\u001b[0m         \u001b[0mkwds\u001b[0m\u001b[0;34m[\u001b[0m\u001b[0;34m\"usecols\"\u001b[0m\u001b[0;34m]\u001b[0m \u001b[0;34m=\u001b[0m \u001b[0mself\u001b[0m\u001b[0;34m.\u001b[0m\u001b[0musecols\u001b[0m\u001b[0;34m\u001b[0m\u001b[0;34m\u001b[0m\u001b[0m\n\u001b[1;32m   1890\u001b[0m \u001b[0;34m\u001b[0m\u001b[0m\n\u001b[0;32m-> 1891\u001b[0;31m         \u001b[0mself\u001b[0m\u001b[0;34m.\u001b[0m\u001b[0m_reader\u001b[0m \u001b[0;34m=\u001b[0m \u001b[0mparsers\u001b[0m\u001b[0;34m.\u001b[0m\u001b[0mTextReader\u001b[0m\u001b[0;34m(\u001b[0m\u001b[0msrc\u001b[0m\u001b[0;34m,\u001b[0m \u001b[0;34m**\u001b[0m\u001b[0mkwds\u001b[0m\u001b[0;34m)\u001b[0m\u001b[0;34m\u001b[0m\u001b[0;34m\u001b[0m\u001b[0m\n\u001b[0m\u001b[1;32m   1892\u001b[0m         \u001b[0mself\u001b[0m\u001b[0;34m.\u001b[0m\u001b[0munnamed_cols\u001b[0m \u001b[0;34m=\u001b[0m \u001b[0mself\u001b[0m\u001b[0;34m.\u001b[0m\u001b[0m_reader\u001b[0m\u001b[0;34m.\u001b[0m\u001b[0munnamed_cols\u001b[0m\u001b[0;34m\u001b[0m\u001b[0;34m\u001b[0m\u001b[0m\n\u001b[1;32m   1893\u001b[0m \u001b[0;34m\u001b[0m\u001b[0m\n",
      "\u001b[0;32mpandas/_libs/parsers.pyx\u001b[0m in \u001b[0;36mpandas._libs.parsers.TextReader.__cinit__\u001b[0;34m()\u001b[0m\n",
      "\u001b[0;32mpandas/_libs/parsers.pyx\u001b[0m in \u001b[0;36mpandas._libs.parsers.TextReader._setup_parser_source\u001b[0;34m()\u001b[0m\n",
      "\u001b[0;31mFileNotFoundError\u001b[0m: [Errno 2] File well_header0.csv does not exist: 'well_header0.csv'"
     ]
    }
   ],
   "source": [
    "df = pd.read_csv('well_header0.csv')\n",
    "test_df= pd.read_csv('test0.csv')"
   ]
  },
  {
   "cell_type": "code",
   "execution_count": 89,
   "metadata": {
    "colab": {
     "base_uri": "https://localhost:8080/",
     "height": 697
    },
    "colab_type": "code",
    "executionInfo": {
     "elapsed": 412,
     "status": "ok",
     "timestamp": 1596657165481,
     "user": {
      "displayName": "Alejandro Coy",
      "photoUrl": "",
      "userId": "09424451745819853121"
     },
     "user_tz": 360
    },
    "id": "GjbT1Ax_6kEm",
    "outputId": "24b534db-7654-427e-b18f-5e280294f772"
   },
   "outputs": [
    {
     "name": "stdout",
     "output_type": "stream",
     "text": [
      "<class 'pandas.core.frame.DataFrame'>\n",
      "RangeIndex: 6731 entries, 0 to 6730\n",
      "Data columns (total 33 columns):\n",
      " #   Column               Non-Null Count  Dtype  \n",
      "---  ------               --------------  -----  \n",
      " 0   EPAssetsId           6731 non-null   int64  \n",
      " 1   CurrentStatus        6731 non-null   object \n",
      " 2   WellType             6731 non-null   object \n",
      " 3   Formation            6731 non-null   object \n",
      " 4   Field                6731 non-null   object \n",
      " 5   Pool                 6731 non-null   object \n",
      " 6   Surf_Township        6731 non-null   int64  \n",
      " 7   Surf_Meridian        6731 non-null   object \n",
      " 8   Surf_Range           6731 non-null   int64  \n",
      " 9   Surf_Section         6731 non-null   int64  \n",
      " 10  Surf_Longitude       6731 non-null   float64\n",
      " 11  Surf_Latitude        6731 non-null   float64\n",
      " 12  Surf_QuarterUnit     6731 non-null   object \n",
      " 13  Surf_Unit            6731 non-null   object \n",
      " 14  Surf_Block           6731 non-null   object \n",
      " 15  Surf_NTSMapSheet     6731 non-null   object \n",
      " 16  Surf_Series          6731 non-null   object \n",
      " 17  Surf_Area            6731 non-null   object \n",
      " 18  Surf_Sheet           6731 non-null   object \n",
      " 19  Surf_QuarterSection  6731 non-null   object \n",
      " 20  BH_Range             6731 non-null   float64\n",
      " 21  GroundElevation      6731 non-null   float64\n",
      " 22  KBElevation          6731 non-null   float64\n",
      " 23  TotalDepth           6731 non-null   float64\n",
      " 24  LaheeClass           6731 non-null   object \n",
      " 25  DrillingContractor   6731 non-null   object \n",
      " 26  DaysDrilling         6731 non-null   float64\n",
      " 27  DrillMetresPerDay    6731 non-null   float64\n",
      " 28  TVD                  6731 non-null   float64\n",
      " 29  WellProfile          6731 non-null   object \n",
      " 30  PSACAreaCode         6731 non-null   object \n",
      " 31  PSACAreaName         6731 non-null   object \n",
      " 32  ProjectedDepth       6424 non-null   float64\n",
      "dtypes: float64(10), int64(4), object(19)\n",
      "memory usage: 1.7+ MB\n"
     ]
    }
   ],
   "source": [
    "df.info()"
   ]
  },
  {
   "cell_type": "markdown",
   "metadata": {
    "colab_type": "text",
    "id": "w72fcZWU6kEt"
   },
   "source": [
    "We required to specify categorical and numerical columns"
   ]
  },
  {
   "cell_type": "code",
   "execution_count": 13,
   "metadata": {
    "colab": {},
    "colab_type": "code",
    "executionInfo": {
     "elapsed": 390,
     "status": "ok",
     "timestamp": 1596655647658,
     "user": {
      "displayName": "Alejandro Coy",
      "photoUrl": "",
      "userId": "09424451745819853121"
     },
     "user_tz": 360
    },
    "id": "uBOEUsQv73Wt"
   },
   "outputs": [],
   "source": [
    "cat_vars = ['CurrentStatus','WellType','Formation','Field','Pool','Surf_Meridian','Surf_QuarterUnit','Surf_Unit','Surf_Block','Surf_NTSMapSheet',\n",
    "                 'Surf_Series','Surf_Area','Surf_Sheet','Surf_QuarterSection','LaheeClass','DrillingContractor','WellProfile','PSACAreaCode','PSACAreaName']\n",
    "num_vars=list(set(list(df.columns))-  set (cat_vars))\n",
    "num_vats = num_vars.remove('TVD')\n",
    "dep_var = 'TVD'"
   ]
  },
  {
   "cell_type": "markdown",
   "metadata": {
    "colab_type": "text",
    "id": "SRTzshF66kEw"
   },
   "source": [
    "Now let's declare our `procs`"
   ]
  },
  {
   "cell_type": "code",
   "execution_count": 16,
   "metadata": {
    "colab": {},
    "colab_type": "code",
    "executionInfo": {
     "elapsed": 367,
     "status": "ok",
     "timestamp": 1596655674756,
     "user": {
      "displayName": "Alejandro Coy",
      "photoUrl": "",
      "userId": "09424451745819853121"
     },
     "user_tz": 360
    },
    "id": "6wc-kRs26kEw"
   },
   "outputs": [],
   "source": [
    "procs = [FillMissing, Categorify, Normalize]"
   ]
  },
  {
   "cell_type": "markdown",
   "metadata": {
    "colab_type": "text",
    "id": "3BCCWVrp6kE8"
   },
   "source": [
    "So now our `splits` will be every index *after* the 41395'th item"
   ]
  },
  {
   "cell_type": "markdown",
   "metadata": {
    "colab_type": "text",
    "id": "CoOe_ygE6kFD"
   },
   "source": [
    "Let's make our `TabularPandas`! Since we have a large `DataFrame`, we can enable `inplace` to `True` and `reduce_memory` to `True` to save on some storage space (**Note**: `reduce_memory` is by default `True`). To use `inplace`, we need to set `chained_assignment` to `None` in `pandas`"
   ]
  },
  {
   "cell_type": "code",
   "execution_count": 17,
   "metadata": {
    "colab": {},
    "colab_type": "code",
    "executionInfo": {
     "elapsed": 395,
     "status": "ok",
     "timestamp": 1596655676923,
     "user": {
      "displayName": "Alejandro Coy",
      "photoUrl": "",
      "userId": "09424451745819853121"
     },
     "user_tz": 360
    },
    "id": "6GDA-mYf831v"
   },
   "outputs": [],
   "source": [
    "splits = RandomSplitter()(range_of(df))"
   ]
  },
  {
   "cell_type": "code",
   "execution_count": 18,
   "metadata": {
    "colab": {},
    "colab_type": "code",
    "executionInfo": {
     "elapsed": 351,
     "status": "ok",
     "timestamp": 1596655677824,
     "user": {
      "displayName": "Alejandro Coy",
      "photoUrl": "",
      "userId": "09424451745819853121"
     },
     "user_tz": 360
    },
    "id": "8h_tU94x6kFD"
   },
   "outputs": [],
   "source": [
    "pd.options.mode.chained_assignment=None"
   ]
  },
  {
   "cell_type": "code",
   "execution_count": 94,
   "metadata": {
    "colab": {},
    "colab_type": "code",
    "executionInfo": {
     "elapsed": 341,
     "status": "ok",
     "timestamp": 1596657576715,
     "user": {
      "displayName": "Alejandro Coy",
      "photoUrl": "",
      "userId": "09424451745819853121"
     },
     "user_tz": 360
    },
    "id": "kDkCn1Q6JNxu"
   },
   "outputs": [],
   "source": [
    "test = TabularPandas(test_df, procs, cat_vars, num_vars, dep_var, y_block=RegressionBlock(),\n",
    "                   splits=None, inplace=True, reduce_memory=True)"
   ]
  },
  {
   "cell_type": "code",
   "execution_count": 95,
   "metadata": {
    "colab": {},
    "colab_type": "code",
    "executionInfo": {
     "elapsed": 378,
     "status": "ok",
     "timestamp": 1596657584898,
     "user": {
      "displayName": "Alejandro Coy",
      "photoUrl": "",
      "userId": "09424451745819853121"
     },
     "user_tz": 360
    },
    "id": "uKIMHmec6kFF"
   },
   "outputs": [],
   "source": [
    "to = TabularPandas(df, procs, cat_vars, num_vars, dep_var, y_block=RegressionBlock(),\n",
    "                   splits=splits, inplace=True, reduce_memory=True)"
   ]
  },
  {
   "cell_type": "code",
   "execution_count": 96,
   "metadata": {
    "colab": {
     "base_uri": "https://localhost:8080/",
     "height": 439
    },
    "colab_type": "code",
    "executionInfo": {
     "elapsed": 371,
     "status": "ok",
     "timestamp": 1596657585843,
     "user": {
      "displayName": "Alejandro Coy",
      "photoUrl": "",
      "userId": "09424451745819853121"
     },
     "user_tz": 360
    },
    "id": "eQWJOLkMQk95",
    "outputId": "085139b0-b09f-4101-a006-54c0ee31ae1b"
   },
   "outputs": [
    {
     "data": {
      "text/html": [
       "<div>\n",
       "<style scoped>\n",
       "    .dataframe tbody tr th:only-of-type {\n",
       "        vertical-align: middle;\n",
       "    }\n",
       "\n",
       "    .dataframe tbody tr th {\n",
       "        vertical-align: top;\n",
       "    }\n",
       "\n",
       "    .dataframe thead th {\n",
       "        text-align: right;\n",
       "    }\n",
       "</style>\n",
       "<table border=\"1\" class=\"dataframe\">\n",
       "  <thead>\n",
       "    <tr style=\"text-align: right;\">\n",
       "      <th></th>\n",
       "      <th>CurrentStatus</th>\n",
       "      <th>WellType</th>\n",
       "      <th>Formation</th>\n",
       "      <th>Field</th>\n",
       "      <th>Pool</th>\n",
       "      <th>Surf_Meridian</th>\n",
       "      <th>Surf_QuarterUnit</th>\n",
       "      <th>Surf_Unit</th>\n",
       "      <th>Surf_Block</th>\n",
       "      <th>Surf_NTSMapSheet</th>\n",
       "      <th>Surf_Series</th>\n",
       "      <th>Surf_Area</th>\n",
       "      <th>Surf_Sheet</th>\n",
       "      <th>Surf_QuarterSection</th>\n",
       "      <th>LaheeClass</th>\n",
       "      <th>DrillingContractor</th>\n",
       "      <th>WellProfile</th>\n",
       "      <th>PSACAreaCode</th>\n",
       "      <th>PSACAreaName</th>\n",
       "      <th>ProjectedDepth_na</th>\n",
       "      <th>Surf_Latitude</th>\n",
       "      <th>GroundElevation</th>\n",
       "      <th>ProjectedDepth</th>\n",
       "      <th>DrillMetresPerDay</th>\n",
       "      <th>Surf_Township</th>\n",
       "      <th>DaysDrilling</th>\n",
       "      <th>TotalDepth</th>\n",
       "      <th>Surf_Longitude</th>\n",
       "      <th>BH_Range</th>\n",
       "      <th>KBElevation</th>\n",
       "      <th>Surf_Section</th>\n",
       "      <th>Surf_Range</th>\n",
       "      <th>EPAssetsId</th>\n",
       "    </tr>\n",
       "  </thead>\n",
       "  <tbody>\n",
       "    <tr>\n",
       "      <th>740</th>\n",
       "      <td>4</td>\n",
       "      <td>1</td>\n",
       "      <td>1</td>\n",
       "      <td>117</td>\n",
       "      <td>38</td>\n",
       "      <td>4</td>\n",
       "      <td>1</td>\n",
       "      <td>1</td>\n",
       "      <td>1</td>\n",
       "      <td>1</td>\n",
       "      <td>1</td>\n",
       "      <td>1</td>\n",
       "      <td>1</td>\n",
       "      <td>1</td>\n",
       "      <td>2</td>\n",
       "      <td>61</td>\n",
       "      <td>1</td>\n",
       "      <td>2</td>\n",
       "      <td>4</td>\n",
       "      <td>1</td>\n",
       "      <td>1.545559</td>\n",
       "      <td>0.357065</td>\n",
       "      <td>0.083785</td>\n",
       "      <td>-0.090347</td>\n",
       "      <td>1.522200</td>\n",
       "      <td>-0.375586</td>\n",
       "      <td>-0.248210</td>\n",
       "      <td>-1.616566</td>\n",
       "      <td>-1.031827</td>\n",
       "      <td>0.355045</td>\n",
       "      <td>0.965464</td>\n",
       "      <td>-1.033927</td>\n",
       "      <td>0.939234</td>\n",
       "    </tr>\n",
       "    <tr>\n",
       "      <th>4525</th>\n",
       "      <td>1</td>\n",
       "      <td>3</td>\n",
       "      <td>4</td>\n",
       "      <td>7</td>\n",
       "      <td>1</td>\n",
       "      <td>1</td>\n",
       "      <td>1</td>\n",
       "      <td>1</td>\n",
       "      <td>1</td>\n",
       "      <td>1</td>\n",
       "      <td>1</td>\n",
       "      <td>1</td>\n",
       "      <td>1</td>\n",
       "      <td>4</td>\n",
       "      <td>2</td>\n",
       "      <td>27</td>\n",
       "      <td>2</td>\n",
       "      <td>7</td>\n",
       "      <td>7</td>\n",
       "      <td>1</td>\n",
       "      <td>-0.779850</td>\n",
       "      <td>-0.594718</td>\n",
       "      <td>-0.849059</td>\n",
       "      <td>1.890739</td>\n",
       "      <td>-0.772415</td>\n",
       "      <td>-0.480257</td>\n",
       "      <td>-0.809110</td>\n",
       "      <td>0.881133</td>\n",
       "      <td>0.829432</td>\n",
       "      <td>-0.597028</td>\n",
       "      <td>-0.268489</td>\n",
       "      <td>0.830094</td>\n",
       "      <td>-1.074253</td>\n",
       "    </tr>\n",
       "    <tr>\n",
       "      <th>4771</th>\n",
       "      <td>1</td>\n",
       "      <td>3</td>\n",
       "      <td>4</td>\n",
       "      <td>120</td>\n",
       "      <td>366</td>\n",
       "      <td>1</td>\n",
       "      <td>1</td>\n",
       "      <td>1</td>\n",
       "      <td>1</td>\n",
       "      <td>1</td>\n",
       "      <td>1</td>\n",
       "      <td>1</td>\n",
       "      <td>1</td>\n",
       "      <td>1</td>\n",
       "      <td>2</td>\n",
       "      <td>60</td>\n",
       "      <td>2</td>\n",
       "      <td>7</td>\n",
       "      <td>7</td>\n",
       "      <td>1</td>\n",
       "      <td>-0.828140</td>\n",
       "      <td>-0.436939</td>\n",
       "      <td>-0.831806</td>\n",
       "      <td>0.149115</td>\n",
       "      <td>-0.834432</td>\n",
       "      <td>-0.445367</td>\n",
       "      <td>-0.886392</td>\n",
       "      <td>0.758168</td>\n",
       "      <td>1.361220</td>\n",
       "      <td>-0.440045</td>\n",
       "      <td>0.395947</td>\n",
       "      <td>1.362671</td>\n",
       "      <td>-1.082309</td>\n",
       "    </tr>\n",
       "    <tr>\n",
       "      <th>3988</th>\n",
       "      <td>1</td>\n",
       "      <td>3</td>\n",
       "      <td>4</td>\n",
       "      <td>52</td>\n",
       "      <td>121</td>\n",
       "      <td>1</td>\n",
       "      <td>1</td>\n",
       "      <td>1</td>\n",
       "      <td>1</td>\n",
       "      <td>1</td>\n",
       "      <td>1</td>\n",
       "      <td>1</td>\n",
       "      <td>1</td>\n",
       "      <td>3</td>\n",
       "      <td>2</td>\n",
       "      <td>73</td>\n",
       "      <td>2</td>\n",
       "      <td>7</td>\n",
       "      <td>7</td>\n",
       "      <td>1</td>\n",
       "      <td>-0.650450</td>\n",
       "      <td>-0.537012</td>\n",
       "      <td>-0.847580</td>\n",
       "      <td>2.760109</td>\n",
       "      <td>-0.648382</td>\n",
       "      <td>-0.480257</td>\n",
       "      <td>-0.536207</td>\n",
       "      <td>0.692886</td>\n",
       "      <td>1.494167</td>\n",
       "      <td>-0.538886</td>\n",
       "      <td>0.016269</td>\n",
       "      <td>1.495815</td>\n",
       "      <td>-1.066269</td>\n",
       "    </tr>\n",
       "    <tr>\n",
       "      <th>1656</th>\n",
       "      <td>4</td>\n",
       "      <td>1</td>\n",
       "      <td>1</td>\n",
       "      <td>78</td>\n",
       "      <td>3</td>\n",
       "      <td>3</td>\n",
       "      <td>1</td>\n",
       "      <td>1</td>\n",
       "      <td>1</td>\n",
       "      <td>1</td>\n",
       "      <td>1</td>\n",
       "      <td>1</td>\n",
       "      <td>1</td>\n",
       "      <td>3</td>\n",
       "      <td>2</td>\n",
       "      <td>34</td>\n",
       "      <td>2</td>\n",
       "      <td>5</td>\n",
       "      <td>1</td>\n",
       "      <td>1</td>\n",
       "      <td>0.067482</td>\n",
       "      <td>1.346831</td>\n",
       "      <td>0.560756</td>\n",
       "      <td>-0.204461</td>\n",
       "      <td>0.095818</td>\n",
       "      <td>-0.305805</td>\n",
       "      <td>0.325368</td>\n",
       "      <td>-0.484287</td>\n",
       "      <td>-1.563616</td>\n",
       "      <td>1.344184</td>\n",
       "      <td>-1.692281</td>\n",
       "      <td>-1.433360</td>\n",
       "      <td>0.932466</td>\n",
       "    </tr>\n",
       "    <tr>\n",
       "      <th>...</th>\n",
       "      <td>...</td>\n",
       "      <td>...</td>\n",
       "      <td>...</td>\n",
       "      <td>...</td>\n",
       "      <td>...</td>\n",
       "      <td>...</td>\n",
       "      <td>...</td>\n",
       "      <td>...</td>\n",
       "      <td>...</td>\n",
       "      <td>...</td>\n",
       "      <td>...</td>\n",
       "      <td>...</td>\n",
       "      <td>...</td>\n",
       "      <td>...</td>\n",
       "      <td>...</td>\n",
       "      <td>...</td>\n",
       "      <td>...</td>\n",
       "      <td>...</td>\n",
       "      <td>...</td>\n",
       "      <td>...</td>\n",
       "      <td>...</td>\n",
       "      <td>...</td>\n",
       "      <td>...</td>\n",
       "      <td>...</td>\n",
       "      <td>...</td>\n",
       "      <td>...</td>\n",
       "      <td>...</td>\n",
       "      <td>...</td>\n",
       "      <td>...</td>\n",
       "      <td>...</td>\n",
       "      <td>...</td>\n",
       "      <td>...</td>\n",
       "      <td>...</td>\n",
       "    </tr>\n",
       "    <tr>\n",
       "      <th>3421</th>\n",
       "      <td>1</td>\n",
       "      <td>3</td>\n",
       "      <td>4</td>\n",
       "      <td>116</td>\n",
       "      <td>347</td>\n",
       "      <td>1</td>\n",
       "      <td>1</td>\n",
       "      <td>1</td>\n",
       "      <td>1</td>\n",
       "      <td>1</td>\n",
       "      <td>1</td>\n",
       "      <td>1</td>\n",
       "      <td>1</td>\n",
       "      <td>4</td>\n",
       "      <td>2</td>\n",
       "      <td>68</td>\n",
       "      <td>2</td>\n",
       "      <td>7</td>\n",
       "      <td>7</td>\n",
       "      <td>1</td>\n",
       "      <td>-0.970447</td>\n",
       "      <td>-0.550160</td>\n",
       "      <td>-0.849059</td>\n",
       "      <td>-0.092270</td>\n",
       "      <td>-0.958465</td>\n",
       "      <td>-0.410476</td>\n",
       "      <td>-0.644282</td>\n",
       "      <td>0.955860</td>\n",
       "      <td>0.563538</td>\n",
       "      <td>-0.551969</td>\n",
       "      <td>-0.363408</td>\n",
       "      <td>0.563805</td>\n",
       "      <td>-1.076990</td>\n",
       "    </tr>\n",
       "    <tr>\n",
       "      <th>3141</th>\n",
       "      <td>1</td>\n",
       "      <td>3</td>\n",
       "      <td>4</td>\n",
       "      <td>82</td>\n",
       "      <td>330</td>\n",
       "      <td>1</td>\n",
       "      <td>1</td>\n",
       "      <td>1</td>\n",
       "      <td>1</td>\n",
       "      <td>1</td>\n",
       "      <td>1</td>\n",
       "      <td>1</td>\n",
       "      <td>1</td>\n",
       "      <td>1</td>\n",
       "      <td>2</td>\n",
       "      <td>65</td>\n",
       "      <td>2</td>\n",
       "      <td>7</td>\n",
       "      <td>7</td>\n",
       "      <td>1</td>\n",
       "      <td>-1.055164</td>\n",
       "      <td>-0.856220</td>\n",
       "      <td>-0.871143</td>\n",
       "      <td>-1.244698</td>\n",
       "      <td>-1.082498</td>\n",
       "      <td>0.426895</td>\n",
       "      <td>-0.963976</td>\n",
       "      <td>1.017055</td>\n",
       "      <td>0.297643</td>\n",
       "      <td>-0.857214</td>\n",
       "      <td>1.155303</td>\n",
       "      <td>0.297516</td>\n",
       "      <td>-1.099286</td>\n",
       "    </tr>\n",
       "    <tr>\n",
       "      <th>2500</th>\n",
       "      <td>4</td>\n",
       "      <td>2</td>\n",
       "      <td>3</td>\n",
       "      <td>57</td>\n",
       "      <td>288</td>\n",
       "      <td>4</td>\n",
       "      <td>1</td>\n",
       "      <td>1</td>\n",
       "      <td>1</td>\n",
       "      <td>1</td>\n",
       "      <td>1</td>\n",
       "      <td>1</td>\n",
       "      <td>1</td>\n",
       "      <td>1</td>\n",
       "      <td>2</td>\n",
       "      <td>54</td>\n",
       "      <td>2</td>\n",
       "      <td>2</td>\n",
       "      <td>4</td>\n",
       "      <td>1</td>\n",
       "      <td>1.441574</td>\n",
       "      <td>0.795338</td>\n",
       "      <td>0.997010</td>\n",
       "      <td>-1.274652</td>\n",
       "      <td>1.460184</td>\n",
       "      <td>3.706597</td>\n",
       "      <td>0.896532</td>\n",
       "      <td>-1.500823</td>\n",
       "      <td>-1.430669</td>\n",
       "      <td>0.811459</td>\n",
       "      <td>-1.312603</td>\n",
       "      <td>-1.433360</td>\n",
       "      <td>0.916393</td>\n",
       "    </tr>\n",
       "    <tr>\n",
       "      <th>2334</th>\n",
       "      <td>4</td>\n",
       "      <td>1</td>\n",
       "      <td>4</td>\n",
       "      <td>89</td>\n",
       "      <td>37</td>\n",
       "      <td>2</td>\n",
       "      <td>1</td>\n",
       "      <td>1</td>\n",
       "      <td>1</td>\n",
       "      <td>1</td>\n",
       "      <td>1</td>\n",
       "      <td>1</td>\n",
       "      <td>1</td>\n",
       "      <td>1</td>\n",
       "      <td>2</td>\n",
       "      <td>11</td>\n",
       "      <td>2</td>\n",
       "      <td>4</td>\n",
       "      <td>2</td>\n",
       "      <td>1</td>\n",
       "      <td>-0.475835</td>\n",
       "      <td>-0.856220</td>\n",
       "      <td>-0.457170</td>\n",
       "      <td>0.123149</td>\n",
       "      <td>-0.462332</td>\n",
       "      <td>-0.445367</td>\n",
       "      <td>-0.902694</td>\n",
       "      <td>0.519519</td>\n",
       "      <td>-1.563616</td>\n",
       "      <td>-0.854306</td>\n",
       "      <td>-0.932925</td>\n",
       "      <td>-1.566504</td>\n",
       "      <td>0.919568</td>\n",
       "    </tr>\n",
       "    <tr>\n",
       "      <th>4532</th>\n",
       "      <td>1</td>\n",
       "      <td>3</td>\n",
       "      <td>4</td>\n",
       "      <td>82</td>\n",
       "      <td>330</td>\n",
       "      <td>1</td>\n",
       "      <td>1</td>\n",
       "      <td>1</td>\n",
       "      <td>1</td>\n",
       "      <td>1</td>\n",
       "      <td>1</td>\n",
       "      <td>1</td>\n",
       "      <td>1</td>\n",
       "      <td>4</td>\n",
       "      <td>2</td>\n",
       "      <td>27</td>\n",
       "      <td>2</td>\n",
       "      <td>7</td>\n",
       "      <td>7</td>\n",
       "      <td>1</td>\n",
       "      <td>-1.053733</td>\n",
       "      <td>-0.901509</td>\n",
       "      <td>-0.858918</td>\n",
       "      <td>1.938824</td>\n",
       "      <td>-1.020482</td>\n",
       "      <td>-0.480257</td>\n",
       "      <td>-0.794016</td>\n",
       "      <td>1.024461</td>\n",
       "      <td>0.297643</td>\n",
       "      <td>-0.902273</td>\n",
       "      <td>-1.407523</td>\n",
       "      <td>0.297516</td>\n",
       "      <td>-1.067830</td>\n",
       "    </tr>\n",
       "  </tbody>\n",
       "</table>\n",
       "<p>6731 rows × 33 columns</p>\n",
       "</div>"
      ],
      "text/plain": [
       "      CurrentStatus  WellType  Formation  ...  Surf_Section  Surf_Range  EPAssetsId\n",
       "740               4         1          1  ...      0.965464   -1.033927    0.939234\n",
       "4525              1         3          4  ...     -0.268489    0.830094   -1.074253\n",
       "4771              1         3          4  ...      0.395947    1.362671   -1.082309\n",
       "3988              1         3          4  ...      0.016269    1.495815   -1.066269\n",
       "1656              4         1          1  ...     -1.692281   -1.433360    0.932466\n",
       "...             ...       ...        ...  ...           ...         ...         ...\n",
       "3421              1         3          4  ...     -0.363408    0.563805   -1.076990\n",
       "3141              1         3          4  ...      1.155303    0.297516   -1.099286\n",
       "2500              4         2          3  ...     -1.312603   -1.433360    0.916393\n",
       "2334              4         1          4  ...     -0.932925   -1.566504    0.919568\n",
       "4532              1         3          4  ...     -1.407523    0.297516   -1.067830\n",
       "\n",
       "[6731 rows x 33 columns]"
      ]
     },
     "execution_count": 96,
     "metadata": {
      "tags": []
     },
     "output_type": "execute_result"
    }
   ],
   "source": [
    "to.xs"
   ]
  },
  {
   "cell_type": "code",
   "execution_count": 98,
   "metadata": {
    "colab": {},
    "colab_type": "code",
    "executionInfo": {
     "elapsed": 360,
     "status": "ok",
     "timestamp": 1596657617122,
     "user": {
      "displayName": "Alejandro Coy",
      "photoUrl": "",
      "userId": "09424451745819853121"
     },
     "user_tz": 360
    },
    "id": "TFJdKoUcKZbf"
   },
   "outputs": [],
   "source": [
    "xs,y = to.train.xs,to.train.y\n",
    "valid_xs,valid_y=test.train.xs,test.train.y"
   ]
  },
  {
   "cell_type": "code",
   "execution_count": 108,
   "metadata": {
    "colab": {},
    "colab_type": "code",
    "executionInfo": {
     "elapsed": 332,
     "status": "ok",
     "timestamp": 1596657681405,
     "user": {
      "displayName": "Alejandro Coy",
      "photoUrl": "",
      "userId": "09424451745819853121"
     },
     "user_tz": 360
    },
    "id": "cUVMH7DILcVb"
   },
   "outputs": [],
   "source": [
    "def rf(xs, y, n_estimators=1000, max_samples=5300,\n",
    "       max_features=1, min_samples_leaf=10, **kwargs):\n",
    "    return RandomForestRegressor(n_jobs=-1, n_estimators=n_estimators,\n",
    "        max_samples=max_samples, max_features=max_features,\n",
    "        min_samples_leaf=min_samples_leaf, oob_score=True).fit(xs, y)"
   ]
  },
  {
   "cell_type": "code",
   "execution_count": 109,
   "metadata": {
    "colab": {},
    "colab_type": "code",
    "executionInfo": {
     "elapsed": 3917,
     "status": "ok",
     "timestamp": 1596657685962,
     "user": {
      "displayName": "Alejandro Coy",
      "photoUrl": "",
      "userId": "09424451745819853121"
     },
     "user_tz": 360
    },
    "id": "6CCX2SaaLlUo"
   },
   "outputs": [],
   "source": [
    "m=rf(xs,y)"
   ]
  },
  {
   "cell_type": "code",
   "execution_count": 110,
   "metadata": {
    "colab": {},
    "colab_type": "code",
    "executionInfo": {
     "elapsed": 314,
     "status": "ok",
     "timestamp": 1596657686963,
     "user": {
      "displayName": "Alejandro Coy",
      "photoUrl": "",
      "userId": "09424451745819853121"
     },
     "user_tz": 360
    },
    "id": "0QX14WPQMNp3"
   },
   "outputs": [],
   "source": [
    "def r_mse(pred,y): return round(math.sqrt(((pred-y)**2).mean()), 6)\n",
    "def m_rmse(m, xs, y): return r_mse(m.predict(xs), y)\n"
   ]
  },
  {
   "cell_type": "code",
   "execution_count": 111,
   "metadata": {
    "colab": {
     "base_uri": "https://localhost:8080/",
     "height": 34
    },
    "colab_type": "code",
    "executionInfo": {
     "elapsed": 1183,
     "status": "ok",
     "timestamp": 1596657688774,
     "user": {
      "displayName": "Alejandro Coy",
      "photoUrl": "",
      "userId": "09424451745819853121"
     },
     "user_tz": 360
    },
    "id": "4FuLJTfTL8hQ",
    "outputId": "8df55c16-bd4f-4b9d-ccb0-68b2643c05b1"
   },
   "outputs": [
    {
     "data": {
      "text/plain": [
       "(133.262786, 1080.361429)"
      ]
     },
     "execution_count": 111,
     "metadata": {
      "tags": []
     },
     "output_type": "execute_result"
    }
   ],
   "source": [
    "m_rmse(m, xs, y), m_rmse(m, valid_xs, valid_y)"
   ]
  },
  {
   "cell_type": "markdown",
   "metadata": {
    "colab_type": "text",
    "id": "ZJd5fUoO6kFH"
   },
   "source": [
    "And now let's build our `dataloaders`!"
   ]
  },
  {
   "cell_type": "code",
   "execution_count": 39,
   "metadata": {
    "colab": {},
    "colab_type": "code",
    "executionInfo": {
     "elapsed": 365,
     "status": "ok",
     "timestamp": 1596655845420,
     "user": {
      "displayName": "Alejandro Coy",
      "photoUrl": "",
      "userId": "09424451745819853121"
     },
     "user_tz": 360
    },
    "id": "yrEHS7sJ6kFH"
   },
   "outputs": [],
   "source": [
    "dls = to.dataloaders(bs=512)"
   ]
  },
  {
   "cell_type": "markdown",
   "metadata": {
    "colab_type": "text",
    "id": "EEOkXqTJ94hP"
   },
   "source": []
  },
  {
   "cell_type": "code",
   "execution_count": 40,
   "metadata": {
    "colab": {
     "base_uri": "https://localhost:8080/",
     "height": 566
    },
    "colab_type": "code",
    "executionInfo": {
     "elapsed": 415,
     "status": "ok",
     "timestamp": 1596655846733,
     "user": {
      "displayName": "Alejandro Coy",
      "photoUrl": "",
      "userId": "09424451745819853121"
     },
     "user_tz": 360
    },
    "id": "4iRHeEtf6kFJ",
    "outputId": "66efb556-47fe-4224-ead3-a1afc81751c3"
   },
   "outputs": [
    {
     "data": {
      "text/html": [
       "<table border=\"1\" class=\"dataframe\">\n",
       "  <thead>\n",
       "    <tr style=\"text-align: right;\">\n",
       "      <th></th>\n",
       "      <th>CurrentStatus</th>\n",
       "      <th>WellType</th>\n",
       "      <th>Formation</th>\n",
       "      <th>Field</th>\n",
       "      <th>Pool</th>\n",
       "      <th>Surf_Meridian</th>\n",
       "      <th>Surf_QuarterUnit</th>\n",
       "      <th>Surf_Unit</th>\n",
       "      <th>Surf_Block</th>\n",
       "      <th>Surf_NTSMapSheet</th>\n",
       "      <th>Surf_Series</th>\n",
       "      <th>Surf_Area</th>\n",
       "      <th>Surf_Sheet</th>\n",
       "      <th>Surf_QuarterSection</th>\n",
       "      <th>LaheeClass</th>\n",
       "      <th>DrillingContractor</th>\n",
       "      <th>WellProfile</th>\n",
       "      <th>PSACAreaCode</th>\n",
       "      <th>PSACAreaName</th>\n",
       "      <th>ProjectedDepth_na</th>\n",
       "      <th>Surf_Latitude</th>\n",
       "      <th>GroundElevation</th>\n",
       "      <th>ProjectedDepth</th>\n",
       "      <th>DrillMetresPerDay</th>\n",
       "      <th>Surf_Township</th>\n",
       "      <th>DaysDrilling</th>\n",
       "      <th>TotalDepth</th>\n",
       "      <th>Surf_Longitude</th>\n",
       "      <th>BH_Range</th>\n",
       "      <th>KBElevation</th>\n",
       "      <th>Surf_Section</th>\n",
       "      <th>Surf_Range</th>\n",
       "      <th>EPAssetsId</th>\n",
       "      <th>TVD</th>\n",
       "    </tr>\n",
       "  </thead>\n",
       "  <tbody>\n",
       "    <tr>\n",
       "      <th>0</th>\n",
       "      <td>Pumping</td>\n",
       "      <td>Crude Oil</td>\n",
       "      <td>Cardium</td>\n",
       "      <td>Willesden Green</td>\n",
       "      <td>Commingled Pool 007</td>\n",
       "      <td>W5</td>\n",
       "      <td>Not Applicable</td>\n",
       "      <td>Not Applicable</td>\n",
       "      <td>Not Applicable</td>\n",
       "      <td>Not Applicable</td>\n",
       "      <td>Not Applicable</td>\n",
       "      <td>Not Applicable</td>\n",
       "      <td>Not Applicable</td>\n",
       "      <td>SE</td>\n",
       "      <td>Development</td>\n",
       "      <td>Ironhand Drilling Inc.</td>\n",
       "      <td>Directional</td>\n",
       "      <td>AB2</td>\n",
       "      <td>Foothills Front</td>\n",
       "      <td>False</td>\n",
       "      <td>52.408378</td>\n",
       "      <td>956.400028</td>\n",
       "      <td>3555.000110</td>\n",
       "      <td>506.290013</td>\n",
       "      <td>40.000000</td>\n",
       "      <td>7.000000</td>\n",
       "      <td>3544.000046</td>\n",
       "      <td>-114.729299</td>\n",
       "      <td>6.0</td>\n",
       "      <td>960.900018</td>\n",
       "      <td>1.000000</td>\n",
       "      <td>6.0</td>\n",
       "      <td>2.624628e+06</td>\n",
       "      <td>1878.030029</td>\n",
       "    </tr>\n",
       "    <tr>\n",
       "      <th>1</th>\n",
       "      <td>Pumping</td>\n",
       "      <td>Crude Oil</td>\n",
       "      <td>Montney</td>\n",
       "      <td>Pouce Coupe South</td>\n",
       "      <td>Commingled Pool 012</td>\n",
       "      <td>W6</td>\n",
       "      <td>Not Applicable</td>\n",
       "      <td>Not Applicable</td>\n",
       "      <td>Not Applicable</td>\n",
       "      <td>Not Applicable</td>\n",
       "      <td>Not Applicable</td>\n",
       "      <td>Not Applicable</td>\n",
       "      <td>Not Applicable</td>\n",
       "      <td>SW</td>\n",
       "      <td>Development</td>\n",
       "      <td>Ensign Drilling Inc.</td>\n",
       "      <td>Horizontal</td>\n",
       "      <td>AB7</td>\n",
       "      <td>Northwestern Alberta</td>\n",
       "      <td>False</td>\n",
       "      <td>55.753086</td>\n",
       "      <td>791.299993</td>\n",
       "      <td>4819.000074</td>\n",
       "      <td>314.690009</td>\n",
       "      <td>78.000001</td>\n",
       "      <td>16.000000</td>\n",
       "      <td>5035.000072</td>\n",
       "      <td>-119.619444</td>\n",
       "      <td>11.0</td>\n",
       "      <td>796.599959</td>\n",
       "      <td>15.000000</td>\n",
       "      <td>11.0</td>\n",
       "      <td>2.597646e+06</td>\n",
       "      <td>2170.989990</td>\n",
       "    </tr>\n",
       "    <tr>\n",
       "      <th>2</th>\n",
       "      <td>Active</td>\n",
       "      <td>Oil Production</td>\n",
       "      <td>Viking</td>\n",
       "      <td>Dodsland</td>\n",
       "      <td>Dodsland Viking</td>\n",
       "      <td>W3</td>\n",
       "      <td>Not Applicable</td>\n",
       "      <td>Not Applicable</td>\n",
       "      <td>Not Applicable</td>\n",
       "      <td>Not Applicable</td>\n",
       "      <td>Not Applicable</td>\n",
       "      <td>Not Applicable</td>\n",
       "      <td>Not Applicable</td>\n",
       "      <td>SE</td>\n",
       "      <td>Development</td>\n",
       "      <td>Savanna Drilling Corp.</td>\n",
       "      <td>Horizontal</td>\n",
       "      <td>SK2</td>\n",
       "      <td>Southwestern Saskatchewan</td>\n",
       "      <td>False</td>\n",
       "      <td>51.606628</td>\n",
       "      <td>721.700016</td>\n",
       "      <td>746.000154</td>\n",
       "      <td>1134.500013</td>\n",
       "      <td>30.000000</td>\n",
       "      <td>2.000000</td>\n",
       "      <td>2269.000078</td>\n",
       "      <td>-108.591055</td>\n",
       "      <td>19.0</td>\n",
       "      <td>725.999981</td>\n",
       "      <td>34.000001</td>\n",
       "      <td>19.0</td>\n",
       "      <td>1.169145e+06</td>\n",
       "      <td>751.849976</td>\n",
       "    </tr>\n",
       "    <tr>\n",
       "      <th>3</th>\n",
       "      <td>Active</td>\n",
       "      <td>Oil Production</td>\n",
       "      <td>Viking</td>\n",
       "      <td>Dodsland</td>\n",
       "      <td>Dodsland Viking</td>\n",
       "      <td>W3</td>\n",
       "      <td>Not Applicable</td>\n",
       "      <td>Not Applicable</td>\n",
       "      <td>Not Applicable</td>\n",
       "      <td>Not Applicable</td>\n",
       "      <td>Not Applicable</td>\n",
       "      <td>Not Applicable</td>\n",
       "      <td>Not Applicable</td>\n",
       "      <td>NE</td>\n",
       "      <td>Development</td>\n",
       "      <td>Champion Drilling</td>\n",
       "      <td>Horizontal</td>\n",
       "      <td>SK2</td>\n",
       "      <td>Southwestern Saskatchewan</td>\n",
       "      <td>False</td>\n",
       "      <td>51.686370</td>\n",
       "      <td>657.900025</td>\n",
       "      <td>634.000108</td>\n",
       "      <td>1489.000004</td>\n",
       "      <td>31.000000</td>\n",
       "      <td>1.000000</td>\n",
       "      <td>1489.000092</td>\n",
       "      <td>-108.659811</td>\n",
       "      <td>19.0</td>\n",
       "      <td>662.199993</td>\n",
       "      <td>29.000000</td>\n",
       "      <td>19.0</td>\n",
       "      <td>1.152322e+06</td>\n",
       "      <td>646.900024</td>\n",
       "    </tr>\n",
       "    <tr>\n",
       "      <th>4</th>\n",
       "      <td>Pumping</td>\n",
       "      <td>Crude Oil</td>\n",
       "      <td>Cardium</td>\n",
       "      <td>Pembina</td>\n",
       "      <td>Cardium</td>\n",
       "      <td>W5</td>\n",
       "      <td>Not Applicable</td>\n",
       "      <td>Not Applicable</td>\n",
       "      <td>Not Applicable</td>\n",
       "      <td>Not Applicable</td>\n",
       "      <td>Not Applicable</td>\n",
       "      <td>Not Applicable</td>\n",
       "      <td>Not Applicable</td>\n",
       "      <td>SE</td>\n",
       "      <td>Development</td>\n",
       "      <td>Horizon Drilling Inc.</td>\n",
       "      <td>Directional</td>\n",
       "      <td>AB2</td>\n",
       "      <td>Foothills Front</td>\n",
       "      <td>False</td>\n",
       "      <td>53.139099</td>\n",
       "      <td>932.400025</td>\n",
       "      <td>4255.000064</td>\n",
       "      <td>502.630018</td>\n",
       "      <td>48.000000</td>\n",
       "      <td>7.999999</td>\n",
       "      <td>4021.000081</td>\n",
       "      <td>-115.516882</td>\n",
       "      <td>11.0</td>\n",
       "      <td>936.799969</td>\n",
       "      <td>15.000000</td>\n",
       "      <td>11.0</td>\n",
       "      <td>2.616729e+06</td>\n",
       "      <td>1829.859985</td>\n",
       "    </tr>\n",
       "    <tr>\n",
       "      <th>5</th>\n",
       "      <td>Pumping</td>\n",
       "      <td>Crude Oil</td>\n",
       "      <td>Cardium</td>\n",
       "      <td>Willesden Green</td>\n",
       "      <td>Commingled Pool 007</td>\n",
       "      <td>W5</td>\n",
       "      <td>Not Applicable</td>\n",
       "      <td>Not Applicable</td>\n",
       "      <td>Not Applicable</td>\n",
       "      <td>Not Applicable</td>\n",
       "      <td>Not Applicable</td>\n",
       "      <td>Not Applicable</td>\n",
       "      <td>Not Applicable</td>\n",
       "      <td>NW</td>\n",
       "      <td>Development</td>\n",
       "      <td>Trinidad Drilling Ltd.</td>\n",
       "      <td>Horizontal</td>\n",
       "      <td>AB2</td>\n",
       "      <td>Foothills Front</td>\n",
       "      <td>False</td>\n",
       "      <td>52.623958</td>\n",
       "      <td>978.599982</td>\n",
       "      <td>3970.000132</td>\n",
       "      <td>368.600012</td>\n",
       "      <td>42.000000</td>\n",
       "      <td>10.000000</td>\n",
       "      <td>3686.000075</td>\n",
       "      <td>-114.977049</td>\n",
       "      <td>7.0</td>\n",
       "      <td>982.799979</td>\n",
       "      <td>17.000000</td>\n",
       "      <td>7.0</td>\n",
       "      <td>2.581803e+06</td>\n",
       "      <td>1934.520020</td>\n",
       "    </tr>\n",
       "    <tr>\n",
       "      <th>6</th>\n",
       "      <td>Pumping</td>\n",
       "      <td>Crude Oil</td>\n",
       "      <td>Viking</td>\n",
       "      <td>Provost</td>\n",
       "      <td>Commingled MFP9515</td>\n",
       "      <td>W4</td>\n",
       "      <td>Not Applicable</td>\n",
       "      <td>Not Applicable</td>\n",
       "      <td>Not Applicable</td>\n",
       "      <td>Not Applicable</td>\n",
       "      <td>Not Applicable</td>\n",
       "      <td>Not Applicable</td>\n",
       "      <td>Not Applicable</td>\n",
       "      <td>SE</td>\n",
       "      <td>Development</td>\n",
       "      <td>Tempco Drilling Ltd</td>\n",
       "      <td>Horizontal</td>\n",
       "      <td>AB3</td>\n",
       "      <td>Southeastern Alberta</td>\n",
       "      <td>False</td>\n",
       "      <td>51.926872</td>\n",
       "      <td>777.400030</td>\n",
       "      <td>1750.000119</td>\n",
       "      <td>904.500012</td>\n",
       "      <td>34.000000</td>\n",
       "      <td>2.000000</td>\n",
       "      <td>1809.000142</td>\n",
       "      <td>-111.046125</td>\n",
       "      <td>8.0</td>\n",
       "      <td>781.699994</td>\n",
       "      <td>22.000000</td>\n",
       "      <td>8.0</td>\n",
       "      <td>2.587182e+06</td>\n",
       "      <td>877.659973</td>\n",
       "    </tr>\n",
       "    <tr>\n",
       "      <th>7</th>\n",
       "      <td>Active</td>\n",
       "      <td>Oil Production</td>\n",
       "      <td>Viking</td>\n",
       "      <td>Viking  - Miscellaneous Area 2</td>\n",
       "      <td>Viking</td>\n",
       "      <td>W3</td>\n",
       "      <td>Not Applicable</td>\n",
       "      <td>Not Applicable</td>\n",
       "      <td>Not Applicable</td>\n",
       "      <td>Not Applicable</td>\n",
       "      <td>Not Applicable</td>\n",
       "      <td>Not Applicable</td>\n",
       "      <td>Not Applicable</td>\n",
       "      <td>NW</td>\n",
       "      <td>Development</td>\n",
       "      <td>Savanna Drilling</td>\n",
       "      <td>Horizontal</td>\n",
       "      <td>SK2</td>\n",
       "      <td>Southwestern Saskatchewan</td>\n",
       "      <td>False</td>\n",
       "      <td>51.182857</td>\n",
       "      <td>688.799988</td>\n",
       "      <td>708.000114</td>\n",
       "      <td>1462.000005</td>\n",
       "      <td>25.000001</td>\n",
       "      <td>1.000000</td>\n",
       "      <td>1462.000122</td>\n",
       "      <td>-108.375090</td>\n",
       "      <td>18.0</td>\n",
       "      <td>692.999977</td>\n",
       "      <td>31.000000</td>\n",
       "      <td>17.0</td>\n",
       "      <td>1.161743e+06</td>\n",
       "      <td>709.799988</td>\n",
       "    </tr>\n",
       "    <tr>\n",
       "      <th>8</th>\n",
       "      <td>Active</td>\n",
       "      <td>Oil Production</td>\n",
       "      <td>Viking</td>\n",
       "      <td>Whiteside Viking</td>\n",
       "      <td>Whiteside Viking</td>\n",
       "      <td>W3</td>\n",
       "      <td>Not Applicable</td>\n",
       "      <td>Not Applicable</td>\n",
       "      <td>Not Applicable</td>\n",
       "      <td>Not Applicable</td>\n",
       "      <td>Not Applicable</td>\n",
       "      <td>Not Applicable</td>\n",
       "      <td>Not Applicable</td>\n",
       "      <td>NW</td>\n",
       "      <td>Development</td>\n",
       "      <td>Lasso Drilling Corporation</td>\n",
       "      <td>Horizontal</td>\n",
       "      <td>SK2</td>\n",
       "      <td>Southwestern Saskatchewan</td>\n",
       "      <td>False</td>\n",
       "      <td>51.588764</td>\n",
       "      <td>700.400030</td>\n",
       "      <td>702.000140</td>\n",
       "      <td>760.500008</td>\n",
       "      <td>30.000000</td>\n",
       "      <td>2.000000</td>\n",
       "      <td>1521.000097</td>\n",
       "      <td>-109.324087</td>\n",
       "      <td>24.0</td>\n",
       "      <td>704.599957</td>\n",
       "      <td>21.000000</td>\n",
       "      <td>24.0</td>\n",
       "      <td>1.169649e+06</td>\n",
       "      <td>706.010010</td>\n",
       "    </tr>\n",
       "    <tr>\n",
       "      <th>9</th>\n",
       "      <td>Active</td>\n",
       "      <td>Oil Production</td>\n",
       "      <td>Viking</td>\n",
       "      <td>Avon Hill</td>\n",
       "      <td>Avon Hill Viking</td>\n",
       "      <td>W3</td>\n",
       "      <td>Not Applicable</td>\n",
       "      <td>Not Applicable</td>\n",
       "      <td>Not Applicable</td>\n",
       "      <td>Not Applicable</td>\n",
       "      <td>Not Applicable</td>\n",
       "      <td>Not Applicable</td>\n",
       "      <td>Not Applicable</td>\n",
       "      <td>NW</td>\n",
       "      <td>Development</td>\n",
       "      <td>Ensign Canadian Drilling</td>\n",
       "      <td>Horizontal</td>\n",
       "      <td>SK2</td>\n",
       "      <td>Southwestern Saskatchewan</td>\n",
       "      <td>False</td>\n",
       "      <td>51.486763</td>\n",
       "      <td>708.000006</td>\n",
       "      <td>756.000151</td>\n",
       "      <td>1607.000047</td>\n",
       "      <td>29.000000</td>\n",
       "      <td>1.000000</td>\n",
       "      <td>1607.000142</td>\n",
       "      <td>-108.971800</td>\n",
       "      <td>22.0</td>\n",
       "      <td>712.199990</td>\n",
       "      <td>13.000000</td>\n",
       "      <td>22.0</td>\n",
       "      <td>1.165331e+06</td>\n",
       "      <td>753.479980</td>\n",
       "    </tr>\n",
       "  </tbody>\n",
       "</table>"
      ],
      "text/plain": [
       "<IPython.core.display.HTML object>"
      ]
     },
     "metadata": {
      "tags": []
     },
     "output_type": "display_data"
    }
   ],
   "source": [
    "dls.show_batch()"
   ]
  },
  {
   "cell_type": "markdown",
   "metadata": {
    "colab_type": "text",
    "collapsed": "true",
    "id": "p1jRcJn56kFL"
   },
   "source": [
    "## The Model:\n"
   ]
  },
  {
   "cell_type": "markdown",
   "metadata": {
    "colab_type": "text",
    "id": "PesVfmEz6kFL"
   },
   "source": [
    "As we're doing regression, we want to dictate what the maximum value to be (and minimum) so we will use a `y_range`"
   ]
  },
  {
   "cell_type": "code",
   "execution_count": 41,
   "metadata": {
    "colab": {},
    "colab_type": "code",
    "executionInfo": {
     "elapsed": 330,
     "status": "ok",
     "timestamp": 1596655849691,
     "user": {
      "displayName": "Alejandro Coy",
      "photoUrl": "",
      "userId": "09424451745819853121"
     },
     "user_tz": 360
    },
    "id": "Kijrroe26kFM"
   },
   "outputs": [],
   "source": [
    "max_y = np.max(df['TVD'])*1.2"
   ]
  },
  {
   "cell_type": "code",
   "execution_count": 42,
   "metadata": {
    "colab": {
     "base_uri": "https://localhost:8080/",
     "height": 34
    },
    "colab_type": "code",
    "executionInfo": {
     "elapsed": 471,
     "status": "ok",
     "timestamp": 1596655851131,
     "user": {
      "displayName": "Alejandro Coy",
      "photoUrl": "",
      "userId": "09424451745819853121"
     },
     "user_tz": 360
    },
    "id": "ZasbH5Kq6kFO",
    "outputId": "d9638d2b-03b8-4f5c-82c6-15832d76212c"
   },
   "outputs": [
    {
     "data": {
      "text/plain": [
       "5239.2"
      ]
     },
     "execution_count": 42,
     "metadata": {
      "tags": []
     },
     "output_type": "execute_result"
    }
   ],
   "source": [
    "max_y"
   ]
  },
  {
   "cell_type": "markdown",
   "metadata": {
    "colab_type": "text",
    "id": "8OolQPmX6kFQ"
   },
   "source": [
    "And now we can make a `y_range`"
   ]
  },
  {
   "cell_type": "code",
   "execution_count": 43,
   "metadata": {
    "colab": {
     "base_uri": "https://localhost:8080/",
     "height": 34
    },
    "colab_type": "code",
    "executionInfo": {
     "elapsed": 385,
     "status": "ok",
     "timestamp": 1596655852992,
     "user": {
      "displayName": "Alejandro Coy",
      "photoUrl": "",
      "userId": "09424451745819853121"
     },
     "user_tz": 360
    },
    "id": "4I6GgC9W6kFQ",
    "outputId": "b30daff6-3e8b-4874-feed-8e22bae13dcd"
   },
   "outputs": [
    {
     "data": {
      "text/plain": [
       "tensor([   0.0000, 5239.2002])"
      ]
     },
     "execution_count": 43,
     "metadata": {
      "tags": []
     },
     "output_type": "execute_result"
    }
   ],
   "source": [
    "y_range = torch.tensor([0, max_y]); y_range"
   ]
  },
  {
   "cell_type": "markdown",
   "metadata": {
    "colab_type": "text",
    "id": "phfnW3YC6kFS"
   },
   "source": [
    "Next comes our `Learner`. We'll walk through each step"
   ]
  },
  {
   "cell_type": "code",
   "execution_count": 44,
   "metadata": {
    "colab": {},
    "colab_type": "code",
    "executionInfo": {
     "elapsed": 483,
     "status": "ok",
     "timestamp": 1596655854303,
     "user": {
      "displayName": "Alejandro Coy",
      "photoUrl": "",
      "userId": "09424451745819853121"
     },
     "user_tz": 360
    },
    "id": "PkLLzCJn6kFS"
   },
   "outputs": [],
   "source": [
    "learn = tabular_learner(dls, layers=[200,100], ps=[0.001, 0.01],\n",
    "                       embed_p=0.04, y_range=y_range, metrics=rmse,\n",
    "                       loss_func=MSELossFlat())"
   ]
  },
  {
   "cell_type": "markdown",
   "metadata": {
    "colab_type": "text",
    "id": "qMFD_q9p6kFU"
   },
   "source": [
    "So we have a lot going on right there. `ps` is overall dropout (helps with overfitting), `embed_p` is dropout on the embedding weights, `exp_rmspe` is Root Mean Square Percentage Error"
   ]
  },
  {
   "cell_type": "markdown",
   "metadata": {
    "colab_type": "text",
    "id": "x2zLqeh86kFV"
   },
   "source": [
    "Let's look at our model:"
   ]
  },
  {
   "cell_type": "code",
   "execution_count": 45,
   "metadata": {
    "colab": {
     "base_uri": "https://localhost:8080/",
     "height": 1000
    },
    "colab_type": "code",
    "executionInfo": {
     "elapsed": 513,
     "status": "ok",
     "timestamp": 1596655858416,
     "user": {
      "displayName": "Alejandro Coy",
      "photoUrl": "",
      "userId": "09424451745819853121"
     },
     "user_tz": 360
    },
    "id": "6aQZ1nvy6kFV",
    "outputId": "d523af41-2ab3-4cc9-d2f4-aba1e242dfc4"
   },
   "outputs": [
    {
     "data": {
      "application/vnd.google.colaboratory.intrinsic+json": {
       "type": "string"
      },
      "text/plain": [
       "TabularModel (Input shape: ['512 x 20', '512 x 13'])\n",
       "================================================================\n",
       "Layer (type)         Output Shape         Param #    Trainable \n",
       "================================================================\n",
       "Embedding            512 x 4              24         True      \n",
       "________________________________________________________________\n",
       "Embedding            512 x 4              24         True      \n",
       "________________________________________________________________\n",
       "Embedding            512 x 4              20         True      \n",
       "________________________________________________________________\n",
       "Embedding            512 x 24             3,000      True      \n",
       "________________________________________________________________\n",
       "Embedding            512 x 44             16,148     True      \n",
       "________________________________________________________________\n",
       "Embedding            512 x 4              20         True      \n",
       "________________________________________________________________\n",
       "Embedding            512 x 2              4          True      \n",
       "________________________________________________________________\n",
       "Embedding            512 x 2              4          True      \n",
       "________________________________________________________________\n",
       "Embedding            512 x 2              4          True      \n",
       "________________________________________________________________\n",
       "Embedding            512 x 2              4          True      \n",
       "________________________________________________________________\n",
       "Embedding            512 x 2              4          True      \n",
       "________________________________________________________________\n",
       "Embedding            512 x 2              4          True      \n",
       "________________________________________________________________\n",
       "Embedding            512 x 2              4          True      \n",
       "________________________________________________________________\n",
       "Embedding            512 x 4              20         True      \n",
       "________________________________________________________________\n",
       "Embedding            512 x 5              35         True      \n",
       "________________________________________________________________\n",
       "Embedding            512 x 20             1,760      True      \n",
       "________________________________________________________________\n",
       "Embedding            512 x 3              12         True      \n",
       "________________________________________________________________\n",
       "Embedding            512 x 5              40         True      \n",
       "________________________________________________________________\n",
       "Embedding            512 x 5              40         True      \n",
       "________________________________________________________________\n",
       "Embedding            512 x 3              9          True      \n",
       "________________________________________________________________\n",
       "Dropout              512 x 143            0          False     \n",
       "________________________________________________________________\n",
       "BatchNorm1d          512 x 13             26         True      \n",
       "________________________________________________________________\n",
       "BatchNorm1d          512 x 156            312        True      \n",
       "________________________________________________________________\n",
       "Linear               512 x 200            31,200     True      \n",
       "________________________________________________________________\n",
       "ReLU                 512 x 200            0          False     \n",
       "________________________________________________________________\n",
       "BatchNorm1d          512 x 200            400        True      \n",
       "________________________________________________________________\n",
       "Linear               512 x 100            20,000     True      \n",
       "________________________________________________________________\n",
       "ReLU                 512 x 100            0          False     \n",
       "________________________________________________________________\n",
       "Linear               512 x 1              101        True      \n",
       "________________________________________________________________\n",
       "SigmoidRange         512 x 1              0          False     \n",
       "________________________________________________________________\n",
       "\n",
       "Total params: 73,219\n",
       "Total trainable params: 73,219\n",
       "Total non-trainable params: 0\n",
       "\n",
       "Optimizer used: <function Adam at 0x7f0559435950>\n",
       "Loss function: FlattenedLoss of MSELoss()\n",
       "\n",
       "Callbacks:\n",
       "  - TrainEvalCallback\n",
       "  - Recorder\n",
       "  - ProgressCallback"
      ]
     },
     "execution_count": 45,
     "metadata": {
      "tags": []
     },
     "output_type": "execute_result"
    }
   ],
   "source": [
    "learn.summary()"
   ]
  },
  {
   "cell_type": "markdown",
   "metadata": {
    "colab_type": "text",
    "collapsed": "true",
    "id": "e7-3LZUt6kFX"
   },
   "source": [
    "## Training\n",
    "\n",
    "Now let's fit!"
   ]
  },
  {
   "cell_type": "code",
   "execution_count": 46,
   "metadata": {
    "colab": {
     "base_uri": "https://localhost:8080/",
     "height": 311
    },
    "colab_type": "code",
    "executionInfo": {
     "elapsed": 2971,
     "status": "ok",
     "timestamp": 1596655863034,
     "user": {
      "displayName": "Alejandro Coy",
      "photoUrl": "",
      "userId": "09424451745819853121"
     },
     "user_tz": 360
    },
    "id": "Utj709V-6kFX",
    "outputId": "9def4f3e-a040-43ed-e8e7-05bc18b1878d"
   },
   "outputs": [
    {
     "data": {
      "text/html": [],
      "text/plain": [
       "<IPython.core.display.HTML object>"
      ]
     },
     "metadata": {
      "tags": []
     },
     "output_type": "display_data"
    },
    {
     "data": {
      "text/plain": [
       "SuggestedLRs(lr_min=0.06309573650360108, lr_steep=0.0008317637839354575)"
      ]
     },
     "execution_count": 46,
     "metadata": {
      "tags": []
     },
     "output_type": "execute_result"
    },
    {
     "data": {
      "image/png": "[encoded data removed]",
      "text/plain": [
       "<Figure size 432x288 with 1 Axes>"
      ]
     },
     "metadata": {
      "needs_background": "light",
      "tags": []
     },
     "output_type": "display_data"
    }
   ],
   "source": [
    "learn.lr_find()"
   ]
  },
  {
   "cell_type": "code",
   "execution_count": 47,
   "metadata": {
    "colab": {
     "base_uri": "https://localhost:8080/",
     "height": 444
    },
    "colab_type": "code",
    "executionInfo": {
     "elapsed": 2508,
     "status": "ok",
     "timestamp": 1596655886207,
     "user": {
      "displayName": "Alejandro Coy",
      "photoUrl": "",
      "userId": "09424451745819853121"
     },
     "user_tz": 360
    },
    "id": "Cc1MwVtD6kFZ",
    "outputId": "e595e5d9-1909-42f2-b414-428329bacfa6"
   },
   "outputs": [
    {
     "data": {
      "text/html": [
       "<table border=\"1\" class=\"dataframe\">\n",
       "  <thead>\n",
       "    <tr style=\"text-align: left;\">\n",
       "      <th>epoch</th>\n",
       "      <th>train_loss</th>\n",
       "      <th>valid_loss</th>\n",
       "      <th>_rmse</th>\n",
       "      <th>time</th>\n",
       "    </tr>\n",
       "  </thead>\n",
       "  <tbody>\n",
       "    <tr>\n",
       "      <td>0</td>\n",
       "      <td>1864029.375000</td>\n",
       "      <td>2133366.750000</td>\n",
       "      <td>1460.604980</td>\n",
       "      <td>00:00</td>\n",
       "    </tr>\n",
       "    <tr>\n",
       "      <td>1</td>\n",
       "      <td>1129799.375000</td>\n",
       "      <td>1642970.750000</td>\n",
       "      <td>1281.784058</td>\n",
       "      <td>00:00</td>\n",
       "    </tr>\n",
       "    <tr>\n",
       "      <td>2</td>\n",
       "      <td>696357.750000</td>\n",
       "      <td>1114065.500000</td>\n",
       "      <td>1055.493042</td>\n",
       "      <td>00:00</td>\n",
       "    </tr>\n",
       "    <tr>\n",
       "      <td>3</td>\n",
       "      <td>475282.468750</td>\n",
       "      <td>923532.187500</td>\n",
       "      <td>961.005737</td>\n",
       "      <td>00:00</td>\n",
       "    </tr>\n",
       "    <tr>\n",
       "      <td>4</td>\n",
       "      <td>342361.093750</td>\n",
       "      <td>777573.375000</td>\n",
       "      <td>881.801147</td>\n",
       "      <td>00:00</td>\n",
       "    </tr>\n",
       "    <tr>\n",
       "      <td>5</td>\n",
       "      <td>255346.890625</td>\n",
       "      <td>592210.562500</td>\n",
       "      <td>769.552246</td>\n",
       "      <td>00:00</td>\n",
       "    </tr>\n",
       "    <tr>\n",
       "      <td>6</td>\n",
       "      <td>195615.203125</td>\n",
       "      <td>360283.156250</td>\n",
       "      <td>600.235962</td>\n",
       "      <td>00:00</td>\n",
       "    </tr>\n",
       "    <tr>\n",
       "      <td>7</td>\n",
       "      <td>152806.578125</td>\n",
       "      <td>149532.328125</td>\n",
       "      <td>386.694061</td>\n",
       "      <td>00:00</td>\n",
       "    </tr>\n",
       "    <tr>\n",
       "      <td>8</td>\n",
       "      <td>120982.554688</td>\n",
       "      <td>49027.828125</td>\n",
       "      <td>221.422272</td>\n",
       "      <td>00:00</td>\n",
       "    </tr>\n",
       "    <tr>\n",
       "      <td>9</td>\n",
       "      <td>97047.554688</td>\n",
       "      <td>19810.519531</td>\n",
       "      <td>140.749847</td>\n",
       "      <td>00:00</td>\n",
       "    </tr>\n",
       "  </tbody>\n",
       "</table>"
      ],
      "text/plain": [
       "<IPython.core.display.HTML object>"
      ]
     },
     "metadata": {
      "tags": []
     },
     "output_type": "display_data"
    },
    {
     "name": "stderr",
     "output_type": "stream",
     "text": [
      "/usr/local/lib/python3.6/dist-packages/fastai2/callback/schedule.py:68: UserWarning: This overload of nonzero is deprecated:\n",
      "\tnonzero()\n",
      "Consider using one of the following signatures instead:\n",
      "\tnonzero(*, bool as_tuple) (Triggered internally at  /pytorch/torch/csrc/utils/python_arg_parser.cpp:766.)\n",
      "  idx = (pos >= pcts).nonzero().max()\n"
     ]
    }
   ],
   "source": [
    "learn.fit_one_cycle(10, 1e-3, wd=0.2)"
   ]
  },
  {
   "cell_type": "markdown",
   "metadata": {
    "colab_type": "text",
    "collapsed": "true",
    "id": "mbb4MtPL6kFc"
   },
   "source": [
    "## Inference on a test set:\n",
    "Now that we have a model, we want to make our final competitions that would be submitted to a competition, as such, we can only make the predictions and submit them as a CSV.\n",
    "\n",
    "We'll practice bringing in an exported model just to show that you do not need the original data. "
   ]
  },
  {
   "cell_type": "code",
   "execution_count": 48,
   "metadata": {
    "colab": {},
    "colab_type": "code",
    "executionInfo": {
     "elapsed": 444,
     "status": "ok",
     "timestamp": 1596655898946,
     "user": {
      "displayName": "Alejandro Coy",
      "photoUrl": "",
      "userId": "09424451745819853121"
     },
     "user_tz": 360
    },
    "id": "DNyAOlu-6kFd"
   },
   "outputs": [],
   "source": [
    "learn.export('myModel')"
   ]
  },
  {
   "cell_type": "code",
   "execution_count": 49,
   "metadata": {
    "colab": {},
    "colab_type": "code",
    "executionInfo": {
     "elapsed": 473,
     "status": "ok",
     "timestamp": 1596655899485,
     "user": {
      "displayName": "Alejandro Coy",
      "photoUrl": "",
      "userId": "09424451745819853121"
     },
     "user_tz": 360
    },
    "id": "mapElCil6kFf"
   },
   "outputs": [],
   "source": [
    "del learn"
   ]
  },
  {
   "cell_type": "code",
   "execution_count": 50,
   "metadata": {
    "colab": {},
    "colab_type": "code",
    "executionInfo": {
     "elapsed": 460,
     "status": "ok",
     "timestamp": 1596655900362,
     "user": {
      "displayName": "Alejandro Coy",
      "photoUrl": "",
      "userId": "09424451745819853121"
     },
     "user_tz": 360
    },
    "id": "WgqXUA2O6kFh"
   },
   "outputs": [],
   "source": [
    "learn = load_learner('myModel')"
   ]
  },
  {
   "cell_type": "markdown",
   "metadata": {
    "colab_type": "text",
    "id": "1CMEsrcd6kFi"
   },
   "source": [
    "Now we generate our `test_dl` from our `test_df`"
   ]
  },
  {
   "cell_type": "code",
   "execution_count": 112,
   "metadata": {
    "colab": {},
    "colab_type": "code",
    "executionInfo": {
     "elapsed": 397,
     "status": "ok",
     "timestamp": 1596657724883,
     "user": {
      "displayName": "Alejandro Coy",
      "photoUrl": "",
      "userId": "09424451745819853121"
     },
     "user_tz": 360
    },
    "id": "4mIt9IwI6kFj"
   },
   "outputs": [],
   "source": [
    "dl = learn.dls.test_dl(test_df)"
   ]
  },
  {
   "cell_type": "markdown",
   "metadata": {
    "colab_type": "text",
    "id": "6S8F88K76kFl"
   },
   "source": [
    "We need to tell the `Learner` to return the predictions for the test set we added"
   ]
  },
  {
   "cell_type": "code",
   "execution_count": 113,
   "metadata": {
    "colab": {
     "base_uri": "https://localhost:8080/",
     "height": 17
    },
    "colab_type": "code",
    "executionInfo": {
     "elapsed": 351,
     "status": "ok",
     "timestamp": 1596657725967,
     "user": {
      "displayName": "Alejandro Coy",
      "photoUrl": "",
      "userId": "09424451745819853121"
     },
     "user_tz": 360
    },
    "id": "Q3AvEw8z6kFl",
    "outputId": "0f55370a-572f-410f-fede-9bc723c70f7d"
   },
   "outputs": [
    {
     "data": {
      "text/html": [],
      "text/plain": [
       "<IPython.core.display.HTML object>"
      ]
     },
     "metadata": {
      "tags": []
     },
     "output_type": "display_data"
    }
   ],
   "source": [
    "raw_test_preds = learn.get_preds(dl=dl)"
   ]
  },
  {
   "cell_type": "markdown",
   "metadata": {
    "colab_type": "text",
    "id": "c0LZgrER6kFn"
   },
   "source": [
    "Let's take a peek"
   ]
  },
  {
   "cell_type": "code",
   "execution_count": 114,
   "metadata": {
    "colab": {
     "base_uri": "https://localhost:8080/",
     "height": 238
    },
    "colab_type": "code",
    "executionInfo": {
     "elapsed": 402,
     "status": "ok",
     "timestamp": 1596657728651,
     "user": {
      "displayName": "Alejandro Coy",
      "photoUrl": "",
      "userId": "09424451745819853121"
     },
     "user_tz": 360
    },
    "id": "Q_X-lKV16kFn",
    "outputId": "4f37da98-5418-4215-d807-175ee7da9fd9"
   },
   "outputs": [
    {
     "data": {
      "text/plain": [
       "(tensor([[1993.8718],\n",
       "         [2085.9751],\n",
       "         [2775.5669],\n",
       "         ...,\n",
       "         [ 986.2465],\n",
       "         [ 935.2872],\n",
       "         [ 959.6848]]), tensor([[1811.0675],\n",
       "         [1473.5994],\n",
       "         [1684.7778],\n",
       "         ...,\n",
       "         [ 940.5924],\n",
       "         [1956.5669],\n",
       "         [ 358.6233]]))"
      ]
     },
     "execution_count": 114,
     "metadata": {
      "tags": []
     },
     "output_type": "execute_result"
    }
   ],
   "source": [
    "raw_test_preds"
   ]
  },
  {
   "cell_type": "markdown",
   "metadata": {
    "colab_type": "text",
    "id": "Qq0UP-Yn6kFp"
   },
   "source": [
    "You'll notice `[0]` contains our predictions, and `[1]` contains any labels (if we had any). This is nice because if we accidently run `learn.validate()` on a non-labeled test set, we get the following:"
   ]
  },
  {
   "cell_type": "code",
   "execution_count": 115,
   "metadata": {
    "colab": {
     "base_uri": "https://localhost:8080/",
     "height": 34
    },
    "colab_type": "code",
    "executionInfo": {
     "elapsed": 404,
     "status": "ok",
     "timestamp": 1596657730615,
     "user": {
      "displayName": "Alejandro Coy",
      "photoUrl": "",
      "userId": "09424451745819853121"
     },
     "user_tz": 360
    },
    "id": "v0CGeXr76kFp",
    "outputId": "a5877ef3-a482-4fe4-89e2-0cfc2bbc6282"
   },
   "outputs": [
    {
     "data": {
      "text/html": [],
      "text/plain": [
       "<IPython.core.display.HTML object>"
      ]
     },
     "metadata": {
      "tags": []
     },
     "output_type": "display_data"
    },
    {
     "data": {
      "text/plain": [
       "(#2) [1431468.0,1196.439697265625]"
      ]
     },
     "execution_count": 115,
     "metadata": {
      "tags": []
     },
     "output_type": "execute_result"
    }
   ],
   "source": [
    "learn.validate(dl=dl)"
   ]
  },
  {
   "cell_type": "markdown",
   "metadata": {
    "colab_type": "text",
    "id": "yYfvH-Fb6kFr"
   },
   "source": [
    "Still runs, just there are no labels so it's `None`"
   ]
  },
  {
   "cell_type": "markdown",
   "metadata": {
    "colab_type": "text",
    "id": "6tRn8sCz6kFs"
   },
   "source": [
    "Now back to our predictions! We need to undo our `log` transform first:"
   ]
  },
  {
   "cell_type": "code",
   "execution_count": 116,
   "metadata": {
    "colab": {},
    "colab_type": "code",
    "executionInfo": {
     "elapsed": 332,
     "status": "ok",
     "timestamp": 1596657735092,
     "user": {
      "displayName": "Alejandro Coy",
      "photoUrl": "",
      "userId": "09424451745819853121"
     },
     "user_tz": 360
    },
    "id": "cMbODR7y6kFw"
   },
   "outputs": [],
   "source": [
    "test_preds = raw_test_preds[0].numpy().T[0]"
   ]
  },
  {
   "cell_type": "markdown",
   "metadata": {
    "colab_type": "text",
    "id": "BKd4_qpU6kFz"
   },
   "source": [
    "(If you want to learn about what `T` does, compare below):"
   ]
  },
  {
   "cell_type": "code",
   "execution_count": 117,
   "metadata": {
    "colab": {
     "base_uri": "https://localhost:8080/",
     "height": 136
    },
    "colab_type": "code",
    "executionInfo": {
     "elapsed": 336,
     "status": "ok",
     "timestamp": 1596657736324,
     "user": {
      "displayName": "Alejandro Coy",
      "photoUrl": "",
      "userId": "09424451745819853121"
     },
     "user_tz": 360
    },
    "id": "4mpcK8bk6kFz",
    "outputId": "784c8e5c-4ef7-41b4-9b09-3b0ab25cdab3"
   },
   "outputs": [
    {
     "data": {
      "text/plain": [
       "array([[1993.8718 ],\n",
       "       [2085.975  ],\n",
       "       [2775.567  ],\n",
       "       ...,\n",
       "       [ 986.24646],\n",
       "       [ 935.28723],\n",
       "       [ 959.68475]], dtype=float32)"
      ]
     },
     "execution_count": 117,
     "metadata": {
      "tags": []
     },
     "output_type": "execute_result"
    }
   ],
   "source": [
    "raw_test_preds[0].numpy()"
   ]
  },
  {
   "cell_type": "code",
   "execution_count": 118,
   "metadata": {
    "colab": {
     "base_uri": "https://localhost:8080/",
     "height": 51
    },
    "colab_type": "code",
    "executionInfo": {
     "elapsed": 426,
     "status": "ok",
     "timestamp": 1596657737240,
     "user": {
      "displayName": "Alejandro Coy",
      "photoUrl": "",
      "userId": "09424451745819853121"
     },
     "user_tz": 360
    },
    "id": "W-6ucC996kF1",
    "outputId": "bfa17595-954e-40dd-d8b2-05255940ba2d"
   },
   "outputs": [
    {
     "data": {
      "text/plain": [
       "array([1993.8718 , 2085.975  , 2775.567  , ...,  986.24646,  935.28723,\n",
       "        959.68475], dtype=float32)"
      ]
     },
     "execution_count": 118,
     "metadata": {
      "tags": []
     },
     "output_type": "execute_result"
    }
   ],
   "source": [
    "test_preds"
   ]
  },
  {
   "cell_type": "markdown",
   "metadata": {
    "colab_type": "text",
    "id": "jSR9KPVt6kF4"
   },
   "source": [
    "Now we can submit to Kaggle!"
   ]
  },
  {
   "cell_type": "code",
   "execution_count": 119,
   "metadata": {
    "colab": {
     "base_uri": "https://localhost:8080/",
     "height": 34
    },
    "colab_type": "code",
    "executionInfo": {
     "elapsed": 357,
     "status": "ok",
     "timestamp": 1596657739842,
     "user": {
      "displayName": "Alejandro Coy",
      "photoUrl": "",
      "userId": "09424451745819853121"
     },
     "user_tz": 360
    },
    "id": "NGX_QngVEScJ",
    "outputId": "8ab8a1ce-39de-474b-dc69-269b3a0cbf3f"
   },
   "outputs": [
    {
     "data": {
      "text/plain": [
       "1196.439718"
      ]
     },
     "execution_count": 119,
     "metadata": {
      "tags": []
     },
     "output_type": "execute_result"
    }
   ],
   "source": [
    "r_mse(raw_test_preds[0].numpy(),raw_test_preds[1].numpy() )"
   ]
  },
  {
   "cell_type": "code",
   "execution_count": 66,
   "metadata": {
    "colab": {},
    "colab_type": "code",
    "executionInfo": {
     "elapsed": 363,
     "status": "ok",
     "timestamp": 1596656114421,
     "user": {
      "displayName": "Alejandro Coy",
      "photoUrl": "",
      "userId": "09424451745819853121"
     },
     "user_tz": 360
    },
    "id": "u-Ghgc446kF4"
   },
   "outputs": [],
   "source": [
    "test_df['TVD'] = test_preds\n",
    "test_df[['EPAssetsId', \"TVD\"]] = test_df[['EPAssetsId', 'TVD']].astype('int')"
   ]
  },
  {
   "cell_type": "markdown",
   "metadata": {
    "colab_type": "text",
    "id": "zQPXHp6t6kF6"
   },
   "source": [
    "And finally we make our submission. **NOTE:** remove the index when generating your submission always!"
   ]
  },
  {
   "cell_type": "code",
   "execution_count": 67,
   "metadata": {
    "colab": {},
    "colab_type": "code",
    "executionInfo": {
     "elapsed": 454,
     "status": "ok",
     "timestamp": 1596656115116,
     "user": {
      "displayName": "Alejandro Coy",
      "photoUrl": "",
      "userId": "09424451745819853121"
     },
     "user_tz": 360
    },
    "id": "eqrsPr006kF7"
   },
   "outputs": [],
   "source": [
    "test_df[['EPAssetsId', 'TVD']].to_csv('submission2.csv', index=False)"
   ]
  },
  {
   "cell_type": "markdown",
   "metadata": {
    "colab_type": "text",
    "collapsed": "true",
    "id": "x_EA-FK26kF9"
   },
   "source": [
    "# Permutation Importance\n",
    "\n",
    "Permutation importance is a technique in which we shuffle each column in a dataframe and analyze how changing a particular column affected our `y` values. The more that it was affected, the more \"important\" we can (generally) call a variable in our neural network. Let's build a quick algorithm to do this:"
   ]
  },
  {
   "cell_type": "code",
   "execution_count": 68,
   "metadata": {
    "colab": {},
    "colab_type": "code",
    "executionInfo": {
     "elapsed": 429,
     "status": "ok",
     "timestamp": 1596656115739,
     "user": {
      "displayName": "Alejandro Coy",
      "photoUrl": "",
      "userId": "09424451745819853121"
     },
     "user_tz": 360
    },
    "id": "lsXO79vm6kF-"
   },
   "outputs": [],
   "source": [
    "class PermutationImportance():\n",
    "  \"Calculate and plot the permutation importance\"\n",
    "  def __init__(self, learn:Learner, df=None, bs=None):\n",
    "    \"Initialize with a test dataframe, a learner, and a metric\"\n",
    "    self.learn = learn\n",
    "    self.df = df\n",
    "    bs = bs if bs is not None else learn.dls.bs\n",
    "    if self.df is not None:\n",
    "      self.dl = learn.dls.test_dl(self.df, bs=bs)\n",
    "    else:\n",
    "      self.dl = learn.dls[1]\n",
    "    self.x_names = learn.dls.x_names.filter(lambda x: '_na' not in x)\n",
    "    self.na = learn.dls.x_names.filter(lambda x: '_na' in x)\n",
    "    self.y = dls.y_names\n",
    "    self.results = self.calc_feat_importance()\n",
    "    self.plot_importance(self.ord_dic_to_df(self.results))\n",
    "\n",
    "  def measure_col(self, name:str):\n",
    "    \"Measures change after column shuffle\"\n",
    "    col = [name]\n",
    "    if f'{name}_na' in self.na: col.append(name)\n",
    "    orig = self.dl.items[col].values\n",
    "    perm = np.random.permutation(len(orig))\n",
    "    self.dl.items[col] = self.dl.items[col].values[perm]\n",
    "    metric = learn.validate(dl=self.dl)[1]\n",
    "    self.dl.items[col] = orig\n",
    "    return metric\n",
    "\n",
    "  def calc_feat_importance(self):\n",
    "    \"Calculates permutation importance by shuffling a column on a percentage scale\"\n",
    "    print('Getting base error')\n",
    "    base_error = self.learn.validate(dl=self.dl)[1]\n",
    "    self.importance = {}\n",
    "    pbar = progress_bar(self.x_names)\n",
    "    print('Calculating Permutation Importance')\n",
    "    for col in pbar:\n",
    "      self.importance[col] = self.measure_col(col)\n",
    "    for key, value in self.importance.items():\n",
    "      self.importance[key] = (base_error-value)/base_error #this can be adjusted\n",
    "    return OrderedDict(sorted(self.importance.items(), key=lambda kv: kv[1], reverse=True))\n",
    "\n",
    "  def ord_dic_to_df(self, dict:OrderedDict):\n",
    "    return pd.DataFrame([[k, v] for k, v in dict.items()], columns=['feature', 'importance'])\n",
    "\n",
    "  def plot_importance(self, df:pd.DataFrame, limit=20, asc=False, **kwargs):\n",
    "    \"Plot importance with an optional limit to how many variables shown\"\n",
    "    df_copy = df.copy()\n",
    "    df_copy['feature'] = df_copy['feature'].str.slice(0,25)\n",
    "    df_copy = df_copy.sort_values(by='importance', ascending=asc)[:limit].sort_values(by='importance', ascending=not(asc))\n",
    "    ax = df_copy.plot.barh(x='feature', y='importance', sort_columns=True, **kwargs)\n",
    "    for p in ax.patches:\n",
    "      ax.annotate(f'{p.get_width():.4f}', ((p.get_width() * 1.005), p.get_y()  * 1.005))"
   ]
  },
  {
   "cell_type": "markdown",
   "metadata": {
    "colab_type": "text",
    "id": "7hhkIEX76kGA"
   },
   "source": [
    "And now we can simply call `PermutationImportance` to run it!"
   ]
  },
  {
   "cell_type": "code",
   "execution_count": 69,
   "metadata": {
    "colab": {
     "base_uri": "https://localhost:8080/",
     "height": 320
    },
    "colab_type": "code",
    "executionInfo": {
     "elapsed": 5202,
     "status": "ok",
     "timestamp": 1596656121309,
     "user": {
      "displayName": "Alejandro Coy",
      "photoUrl": "",
      "userId": "09424451745819853121"
     },
     "user_tz": 360
    },
    "id": "FTpCYbOy6kGA",
    "outputId": "434d83f6-b0ea-47b6-cb5c-84bf7fb0d88f"
   },
   "outputs": [
    {
     "name": "stdout",
     "output_type": "stream",
     "text": [
      "Getting base error\n"
     ]
    },
    {
     "data": {
      "text/html": [],
      "text/plain": [
       "<IPython.core.display.HTML object>"
      ]
     },
     "metadata": {
      "tags": []
     },
     "output_type": "display_data"
    },
    {
     "name": "stdout",
     "output_type": "stream",
     "text": [
      "Calculating Permutation Importance\n"
     ]
    },
    {
     "data": {
      "text/html": [
       "\n",
       "    <div>\n",
       "        <style>\n",
       "            /* Turns off some styling */\n",
       "            progress {\n",
       "                /* gets rid of default border in Firefox and Opera. */\n",
       "                border: none;\n",
       "                /* Needs to be in here for Safari polyfill so background images work as expected. */\n",
       "                background-size: auto;\n",
       "            }\n",
       "            .progress-bar-interrupted, .progress-bar-interrupted::-webkit-progress-bar {\n",
       "                background: #F44336;\n",
       "            }\n",
       "        </style>\n",
       "      <progress value='32' class='' max='32' style='width:300px; height:20px; vertical-align: middle;'></progress>\n",
       "      100.00% [32/32 00:04<00:00]\n",
       "    </div>\n",
       "    "
      ],
      "text/plain": [
       "<IPython.core.display.HTML object>"
      ]
     },
     "metadata": {
      "tags": []
     },
     "output_type": "display_data"
    },
    {
     "data": {
      "text/html": [],
      "text/plain": [
       "<IPython.core.display.HTML object>"
      ]
     },
     "metadata": {
      "tags": []
     },
     "output_type": "display_data"
    },
    {
     "data": {
      "text/html": [],
      "text/plain": [
       "<IPython.core.display.HTML object>"
      ]
     },
     "metadata": {
      "tags": []
     },
     "output_type": "display_data"
    },
    {
     "data": {
      "text/html": [],
      "text/plain": [
       "<IPython.core.display.HTML object>"
      ]
     },
     "metadata": {
      "tags": []
     },
     "output_type": "display_data"
    },
    {
     "data": {
      "text/html": [],
      "text/plain": [
       "<IPython.core.display.HTML object>"
      ]
     },
     "metadata": {
      "tags": []
     },
     "output_type": "display_data"
    },
    {
     "data": {
      "text/html": [],
      "text/plain": [
       "<IPython.core.display.HTML object>"
      ]
     },
     "metadata": {
      "tags": []
     },
     "output_type": "display_data"
    },
    {
     "data": {
      "text/html": [],
      "text/plain": [
       "<IPython.core.display.HTML object>"
      ]
     },
     "metadata": {
      "tags": []
     },
     "output_type": "display_data"
    },
    {
     "data": {
      "text/html": [],
      "text/plain": [
       "<IPython.core.display.HTML object>"
      ]
     },
     "metadata": {
      "tags": []
     },
     "output_type": "display_data"
    },
    {
     "data": {
      "text/html": [],
      "text/plain": [
       "<IPython.core.display.HTML object>"
      ]
     },
     "metadata": {
      "tags": []
     },
     "output_type": "display_data"
    },
    {
     "data": {
      "text/html": [],
      "text/plain": [
       "<IPython.core.display.HTML object>"
      ]
     },
     "metadata": {
      "tags": []
     },
     "output_type": "display_data"
    },
    {
     "data": {
      "text/html": [],
      "text/plain": [
       "<IPython.core.display.HTML object>"
      ]
     },
     "metadata": {
      "tags": []
     },
     "output_type": "display_data"
    },
    {
     "data": {
      "text/html": [],
      "text/plain": [
       "<IPython.core.display.HTML object>"
      ]
     },
     "metadata": {
      "tags": []
     },
     "output_type": "display_data"
    },
    {
     "data": {
      "text/html": [],
      "text/plain": [
       "<IPython.core.display.HTML object>"
      ]
     },
     "metadata": {
      "tags": []
     },
     "output_type": "display_data"
    },
    {
     "data": {
      "text/html": [],
      "text/plain": [
       "<IPython.core.display.HTML object>"
      ]
     },
     "metadata": {
      "tags": []
     },
     "output_type": "display_data"
    },
    {
     "data": {
      "text/html": [],
      "text/plain": [
       "<IPython.core.display.HTML object>"
      ]
     },
     "metadata": {
      "tags": []
     },
     "output_type": "display_data"
    },
    {
     "data": {
      "text/html": [],
      "text/plain": [
       "<IPython.core.display.HTML object>"
      ]
     },
     "metadata": {
      "tags": []
     },
     "output_type": "display_data"
    },
    {
     "data": {
      "text/html": [],
      "text/plain": [
       "<IPython.core.display.HTML object>"
      ]
     },
     "metadata": {
      "tags": []
     },
     "output_type": "display_data"
    },
    {
     "data": {
      "text/html": [],
      "text/plain": [
       "<IPython.core.display.HTML object>"
      ]
     },
     "metadata": {
      "tags": []
     },
     "output_type": "display_data"
    },
    {
     "data": {
      "text/html": [],
      "text/plain": [
       "<IPython.core.display.HTML object>"
      ]
     },
     "metadata": {
      "tags": []
     },
     "output_type": "display_data"
    },
    {
     "data": {
      "text/html": [],
      "text/plain": [
       "<IPython.core.display.HTML object>"
      ]
     },
     "metadata": {
      "tags": []
     },
     "output_type": "display_data"
    },
    {
     "data": {
      "text/html": [],
      "text/plain": [
       "<IPython.core.display.HTML object>"
      ]
     },
     "metadata": {
      "tags": []
     },
     "output_type": "display_data"
    },
    {
     "data": {
      "text/html": [],
      "text/plain": [
       "<IPython.core.display.HTML object>"
      ]
     },
     "metadata": {
      "tags": []
     },
     "output_type": "display_data"
    },
    {
     "data": {
      "text/html": [],
      "text/plain": [
       "<IPython.core.display.HTML object>"
      ]
     },
     "metadata": {
      "tags": []
     },
     "output_type": "display_data"
    },
    {
     "data": {
      "text/html": [],
      "text/plain": [
       "<IPython.core.display.HTML object>"
      ]
     },
     "metadata": {
      "tags": []
     },
     "output_type": "display_data"
    },
    {
     "data": {
      "text/html": [],
      "text/plain": [
       "<IPython.core.display.HTML object>"
      ]
     },
     "metadata": {
      "tags": []
     },
     "output_type": "display_data"
    },
    {
     "data": {
      "text/html": [],
      "text/plain": [
       "<IPython.core.display.HTML object>"
      ]
     },
     "metadata": {
      "tags": []
     },
     "output_type": "display_data"
    },
    {
     "data": {
      "text/html": [],
      "text/plain": [
       "<IPython.core.display.HTML object>"
      ]
     },
     "metadata": {
      "tags": []
     },
     "output_type": "display_data"
    },
    {
     "data": {
      "text/html": [],
      "text/plain": [
       "<IPython.core.display.HTML object>"
      ]
     },
     "metadata": {
      "tags": []
     },
     "output_type": "display_data"
    },
    {
     "data": {
      "text/html": [],
      "text/plain": [
       "<IPython.core.display.HTML object>"
      ]
     },
     "metadata": {
      "tags": []
     },
     "output_type": "display_data"
    },
    {
     "data": {
      "text/html": [],
      "text/plain": [
       "<IPython.core.display.HTML object>"
      ]
     },
     "metadata": {
      "tags": []
     },
     "output_type": "display_data"
    },
    {
     "data": {
      "text/html": [],
      "text/plain": [
       "<IPython.core.display.HTML object>"
      ]
     },
     "metadata": {
      "tags": []
     },
     "output_type": "display_data"
    },
    {
     "data": {
      "text/html": [],
      "text/plain": [
       "<IPython.core.display.HTML object>"
      ]
     },
     "metadata": {
      "tags": []
     },
     "output_type": "display_data"
    },
    {
     "data": {
      "text/html": [],
      "text/plain": [
       "<IPython.core.display.HTML object>"
      ]
     },
     "metadata": {
      "tags": []
     },
     "output_type": "display_data"
    },
    {
     "data": {
      "image/png": "[encoded data removed]",
      "text/plain": [
       "<Figure size 432x288 with 1 Axes>"
      ]
     },
     "metadata": {
      "needs_background": "light",
      "tags": []
     },
     "output_type": "display_data"
    }
   ],
   "source": [
    "res = PermutationImportance(learn, df.iloc[:1000], bs=64)"
   ]
  },
  {
   "cell_type": "code",
   "execution_count": 70,
   "metadata": {
    "colab": {
     "base_uri": "https://localhost:8080/",
     "height": 561
    },
    "colab_type": "code",
    "executionInfo": {
     "elapsed": 2988,
     "status": "ok",
     "timestamp": 1596656121309,
     "user": {
      "displayName": "Alejandro Coy",
      "photoUrl": "",
      "userId": "09424451745819853121"
     },
     "user_tz": 360
    },
    "id": "1ndandCo6kGC",
    "outputId": "3010e320-633d-49a2-a94e-15f1cfbd3668"
   },
   "outputs": [
    {
     "data": {
      "text/plain": [
       "{'BH_Range': -0.03418498368244247,\n",
       " 'CurrentStatus': -0.026185866584901015,\n",
       " 'DaysDrilling': -0.1931666681416413,\n",
       " 'DrillMetresPerDay': 0.00662624542085451,\n",
       " 'DrillingContractor': -0.27130249456385086,\n",
       " 'EPAssetsId': 0.0002167692121084658,\n",
       " 'Field': -1.1073534426168063,\n",
       " 'Formation': -0.3239508635629383,\n",
       " 'GroundElevation': -0.022021648809929736,\n",
       " 'KBElevation': -0.07938604962057579,\n",
       " 'LaheeClass': 0.0,\n",
       " 'PSACAreaCode': 0.0,\n",
       " 'PSACAreaName': 0.0,\n",
       " 'Pool': -2.210564011209113,\n",
       " 'ProjectedDepth': -0.04740884266376253,\n",
       " 'Surf_Area': 0.0,\n",
       " 'Surf_Block': 0.0,\n",
       " 'Surf_Latitude': 0.002774999908898626,\n",
       " 'Surf_Longitude': -0.009283802644230394,\n",
       " 'Surf_Meridian': -0.07193728893763825,\n",
       " 'Surf_NTSMapSheet': 0.0,\n",
       " 'Surf_QuarterSection': -0.016649999453391757,\n",
       " 'Surf_QuarterUnit': 0.0,\n",
       " 'Surf_Range': -0.018175817322483766,\n",
       " 'Surf_Section': -0.01332870364827165,\n",
       " 'Surf_Series': 0.0,\n",
       " 'Surf_Sheet': 0.0,\n",
       " 'Surf_Township': 0.0024770203291414553,\n",
       " 'Surf_Unit': 0.0,\n",
       " 'TotalDepth': -0.1014933857799605,\n",
       " 'WellProfile': -0.019169290820052923,\n",
       " 'WellType': -0.3376442850546374}"
      ]
     },
     "execution_count": 70,
     "metadata": {
      "tags": []
     },
     "output_type": "execute_result"
    }
   ],
   "source": [
    "res.importance"
   ]
  },
  {
   "cell_type": "code",
   "execution_count": null,
   "metadata": {
    "colab": {},
    "colab_type": "code",
    "id": "ny2_BaoX6kGE"
   },
   "outputs": [],
   "source": []
  }
 ],
 "metadata": {
  "accelerator": "GPU",
  "colab": {
   "name": "TVD.ipynb",
   "provenance": [
    {
     "file_id": "https://github.com/coy17a/Practical-Deep-Learning-for-Coders-2.0/blob/master/Tabular%20Notebooks/02_Regression_and_Permutation_Importance.ipynb",
     "timestamp": 1596568787122
    }
   ],
   "toc_visible": true
  },
  "kernelspec": {
   "display_name": "Python 3",
   "language": "python",
   "name": "python3"
  },
  "language_info": {
   "codemirror_mode": {
    "name": "ipython",
    "version": 3
   },
   "file_extension": ".py",
   "mimetype": "text/x-python",
   "name": "python",
   "nbconvert_exporter": "python",
   "pygments_lexer": "ipython3",
   "version": "3.7.4"
  }
 },
 "nbformat": 4,
 "nbformat_minor": 4
}
