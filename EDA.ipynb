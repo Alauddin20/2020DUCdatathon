{
 "cells": [
  {
   "cell_type": "markdown",
   "metadata": {},
   "source": [
    "# Import Libraries"
   ]
  },
  {
   "cell_type": "code",
   "execution_count": 1,
   "metadata": {},
   "outputs": [],
   "source": [
    "import pandas as pd\n",
    "import sweetviz as sv"
   ]
  },
  {
   "cell_type": "markdown",
   "metadata": {},
   "source": [
    "## Get the data"
   ]
  },
  {
   "cell_type": "code",
   "execution_count": 2,
   "metadata": {},
   "outputs": [],
   "source": [
    "well_header = pd.read_csv('WellHeader_subset.csv',parse_dates=True,)\n",
    "well_production = pd.read_csv('WellProduction_subset.csv')\n",
    "perf_treatment = pd.read_csv('PerfTreatment_subset.csv')"
   ]
  },
  {
   "cell_type": "code",
   "execution_count": 3,
   "metadata": {},
   "outputs": [
    {
     "name": "stdout",
     "output_type": "stream",
     "text": [
      "<class 'pandas.core.frame.DataFrame'>\n",
      "RangeIndex: 1147 entries, 0 to 1146\n",
      "Data columns (total 86 columns):\n",
      " #   Column                     Non-Null Count  Dtype  \n",
      "---  ------                     --------------  -----  \n",
      " 0   EPAssetsId                 1147 non-null   int64  \n",
      " 1   Province                   1147 non-null   object \n",
      " 2   LicenceNumber              1147 non-null   int64  \n",
      " 3   UWI                        1147 non-null   object \n",
      " 4   CurrentOperator            1147 non-null   object \n",
      " 5   CurrentOperatorParent      1147 non-null   int64  \n",
      " 6   CurrentOperatorParentName  1147 non-null   object \n",
      " 7   Licensee                   1147 non-null   object \n",
      " 8   LicenseeParentCompany      1147 non-null   int64  \n",
      " 9   LicenseeParentCompanyName  1147 non-null   object \n",
      " 10  LicenceDate                1147 non-null   object \n",
      " 11  CurrentStatus              1147 non-null   object \n",
      " 12  CurrentStatusStandardised  1147 non-null   object \n",
      " 13  WellType                   1147 non-null   object \n",
      " 14  WellTypeStandardised       1147 non-null   object \n",
      " 15  ConfidentialReleaseDate    114 non-null    object \n",
      " 16  AbandonDate                0 non-null      float64\n",
      " 17  SurfAbandonDate            0 non-null      float64\n",
      " 18  WellName                   1147 non-null   object \n",
      " 19  Formation                  1147 non-null   object \n",
      " 20  Field                      1147 non-null   object \n",
      " 21  Pool                       1147 non-null   object \n",
      " 22  SurveySystem               1147 non-null   object \n",
      " 23  Surf_Location              1147 non-null   object \n",
      " 24  Surf_Township              1147 non-null   int64  \n",
      " 25  Surf_Meridian              1147 non-null   object \n",
      " 26  Surf_Range                 1147 non-null   int64  \n",
      " 27  Surf_Section               1147 non-null   int64  \n",
      " 28  Surf_LSD                   1147 non-null   int64  \n",
      " 29  Surf_Longitude             1147 non-null   float64\n",
      " 30  Surf_Latitude              1147 non-null   float64\n",
      " 31  Surf_TownshipRange         1147 non-null   object \n",
      " 32  Surf_QuarterUnit           1147 non-null   object \n",
      " 33  Surf_Unit                  1147 non-null   object \n",
      " 34  Surf_Block                 1147 non-null   object \n",
      " 35  Surf_NTSMapSheet           1147 non-null   object \n",
      " 36  Surf_Series                1147 non-null   object \n",
      " 37  Surf_Area                  1147 non-null   object \n",
      " 38  Surf_Sheet                 1147 non-null   object \n",
      " 39  Surf_QuarterSection        1147 non-null   object \n",
      " 40  BH_Location                1147 non-null   object \n",
      " 41  BH_TownshipRange           1147 non-null   object \n",
      " 42  BH_QuarterUnit             1147 non-null   object \n",
      " 43  BH_Unit                    1147 non-null   object \n",
      " 44  BH_Block                   1147 non-null   object \n",
      " 45  BH_NTSMapSheet             1147 non-null   object \n",
      " 46  BH_Series                  1147 non-null   object \n",
      " 47  BH_Area                    1147 non-null   object \n",
      " 48  BH_Sheet                   1147 non-null   object \n",
      " 49  BH_QuarterSection          1147 non-null   object \n",
      " 50  BH_Longitude               1147 non-null   float64\n",
      " 51  BH_Latitude                1147 non-null   float64\n",
      " 52  BH_Township                1147 non-null   int64  \n",
      " 53  BH_Meridian                1147 non-null   object \n",
      " 54  BH_Range                   1147 non-null   int64  \n",
      " 55  BH_Section                 1147 non-null   int64  \n",
      " 56  BH_LSD                     1147 non-null   int64  \n",
      " 57  GroundElevation            1147 non-null   float64\n",
      " 58  KBElevation                1147 non-null   float64\n",
      " 59  TotalDepth                 1147 non-null   float64\n",
      " 60  LaheeClass                 1147 non-null   object \n",
      " 61  Confidential               1147 non-null   object \n",
      " 62  SurfaceOwner               1147 non-null   object \n",
      " 63  OSArea                     1147 non-null   object \n",
      " 64  OSDeposit                  1147 non-null   object \n",
      " 65  DrillingContractor         1147 non-null   object \n",
      " 66  SpudDate                   1147 non-null   object \n",
      " 67  FinalDrillDate             1147 non-null   object \n",
      " 68  RigReleaseDate             1147 non-null   object \n",
      " 69  DaysDrilling               1147 non-null   float64\n",
      " 70  DrillMetresPerDay          1147 non-null   float64\n",
      " 71  TVD                        1147 non-null   float64\n",
      " 72  WellProfile                1147 non-null   object \n",
      " 73  Country                    1147 non-null   object \n",
      " 74  RegulatoryAgency           1147 non-null   object \n",
      " 75  PSACAreaCode               1147 non-null   object \n",
      " 76  PSACAreaName               1147 non-null   object \n",
      " 77  ProjectedDepth             1065 non-null   float64\n",
      " 78  StatusDate                 1147 non-null   object \n",
      " 79  StatusSource               1147 non-null   object \n",
      " 80  UnitID                     257 non-null    object \n",
      " 81  UnitName                   257 non-null    object \n",
      " 82  UnitFlag                   1147 non-null   object \n",
      " 83  Municipality               0 non-null      float64\n",
      " 84  CompletionDate             0 non-null      float64\n",
      " 85  Agent                      1147 non-null   object \n",
      "dtypes: float64(15), int64(12), object(59)\n",
      "memory usage: 770.8+ KB\n"
     ]
    }
   ],
   "source": [
    "well_header=well_header.iloc[:,1:87]\n",
    "well_header.info()"
   ]
  },
  {
   "cell_type": "markdown",
   "metadata": {},
   "source": [
    "## Seewtviz Magic"
   ]
  },
  {
   "cell_type": "code",
   "execution_count": 4,
   "metadata": {},
   "outputs": [
    {
     "name": "stderr",
     "output_type": "stream",
     "text": [
      ":FEATURES DONE:                    |█████████████████████| [100%]   00:15  -> (00:00 left)\n",
      ":PAIRWISE DONE:                    |█████████████████████| [100%]   00:03  -> (00:00 left)\n"
     ]
    },
    {
     "name": "stdout",
     "output_type": "stream",
     "text": [
      "Creating Associations graph... DONE!\n"
     ]
    }
   ],
   "source": [
    " wh= sv.analyze(well_header)"
   ]
  },
  {
   "cell_type": "code",
   "execution_count": 21,
   "metadata": {},
   "outputs": [
    {
     "name": "stdout",
     "output_type": "stream",
     "text": [
      "Report wells.html was generated! NOTEBOOK/COLAB USERS: no browser will pop up, the report is saved in your notebook/colab files.\n"
     ]
    }
   ],
   "source": [
    "wh.show_html('wells.html')"
   ]
  },
  {
   "cell_type": "code",
   "execution_count": 6,
   "metadata": {},
   "outputs": [],
   "source": [
    "well_production=well_production.iloc[:,1:5]"
   ]
  },
  {
   "cell_type": "code",
   "execution_count": 7,
   "metadata": {},
   "outputs": [
    {
     "name": "stdout",
     "output_type": "stream",
     "text": [
      "<class 'pandas.core.frame.DataFrame'>\n",
      "RangeIndex: 99337 entries, 0 to 99336\n",
      "Data columns (total 4 columns):\n",
      " #   Column      Non-Null Count  Dtype  \n",
      "---  ------      --------------  -----  \n",
      " 0   EPAssetsId  99337 non-null  int64  \n",
      " 1   ProdPeriod  99337 non-null  object \n",
      " 2   ProdType    99337 non-null  object \n",
      " 3   Volume      99337 non-null  float64\n",
      "dtypes: float64(1), int64(1), object(2)\n",
      "memory usage: 3.0+ MB\n"
     ]
    }
   ],
   "source": [
    "well_production.info()"
   ]
  },
  {
   "cell_type": "code",
   "execution_count": 8,
   "metadata": {},
   "outputs": [
    {
     "name": "stderr",
     "output_type": "stream",
     "text": [
      ":FEATURES DONE:                    |█████████████████████| [100%]   00:01  -> (00:00 left)\n",
      ":PAIRWISE DONE:                    |█████████████████████| [100%]   00:00  -> (00:00 left)\n"
     ]
    },
    {
     "name": "stdout",
     "output_type": "stream",
     "text": [
      "Creating Associations graph... DONE!\n"
     ]
    }
   ],
   "source": [
    " wp= sv.analyze(well_production)"
   ]
  },
  {
   "cell_type": "code",
   "execution_count": 9,
   "metadata": {},
   "outputs": [
    {
     "name": "stdout",
     "output_type": "stream",
     "text": [
      "Report wells_production.html was generated! NOTEBOOK/COLAB USERS: no browser will pop up, the report is saved in your notebook/colab files.\n"
     ]
    }
   ],
   "source": [
    "wp.show_html('wells_production.html')"
   ]
  },
  {
   "cell_type": "code",
   "execution_count": 10,
   "metadata": {},
   "outputs": [],
   "source": [
    "perf_treatment=perf_treatment.iloc[:,1:9]"
   ]
  },
  {
   "cell_type": "code",
   "execution_count": 11,
   "metadata": {},
   "outputs": [
    {
     "name": "stderr",
     "output_type": "stream",
     "text": [
      ":FEATURES DONE:                    |█████████████████████| [100%]   00:02  -> (00:00 left)\n",
      ":PAIRWISE DONE:                    |█████████████████████| [100%]   00:00  -> (00:00 left)\n"
     ]
    },
    {
     "name": "stdout",
     "output_type": "stream",
     "text": [
      "Creating Associations graph... DONE!\n"
     ]
    }
   ],
   "source": [
    "pt=sv.analyze(perf_treatment)"
   ]
  },
  {
   "cell_type": "code",
   "execution_count": 12,
   "metadata": {},
   "outputs": [
    {
     "name": "stdout",
     "output_type": "stream",
     "text": [
      "Report pef_treatment.html was generated! NOTEBOOK/COLAB USERS: no browser will pop up, the report is saved in your notebook/colab files.\n"
     ]
    }
   ],
   "source": [
    "pt.show_html('pef_treatment.html')"
   ]
  },
  {
   "cell_type": "markdown",
   "metadata": {},
   "source": [
    "## Merging "
   ]
  },
  {
   "cell_type": "code",
   "execution_count": 13,
   "metadata": {},
   "outputs": [],
   "source": [
    "df=pd.merge(well_header, well_production, on='EPAssetsId', how='left')"
   ]
  },
  {
   "cell_type": "code",
   "execution_count": 14,
   "metadata": {},
   "outputs": [],
   "source": [
    "df2 = pd.merge(df,perf_treatment, on ='EPAssetsId',how ='left')"
   ]
  },
  {
   "cell_type": "code",
   "execution_count": null,
   "metadata": {},
   "outputs": [],
   "source": []
  },
  {
   "cell_type": "code",
   "execution_count": 15,
   "metadata": {},
   "outputs": [
    {
     "data": {
      "text/html": [
       "<div>\n",
       "<style scoped>\n",
       "    .dataframe tbody tr th:only-of-type {\n",
       "        vertical-align: middle;\n",
       "    }\n",
       "\n",
       "    .dataframe tbody tr th {\n",
       "        vertical-align: top;\n",
       "    }\n",
       "\n",
       "    .dataframe thead th {\n",
       "        text-align: right;\n",
       "    }\n",
       "</style>\n",
       "<table border=\"1\" class=\"dataframe\">\n",
       "  <thead>\n",
       "    <tr style=\"text-align: right;\">\n",
       "      <th></th>\n",
       "      <th>EPAssetsId</th>\n",
       "      <th>ProdPeriod</th>\n",
       "      <th>ProdType</th>\n",
       "      <th>Volume</th>\n",
       "    </tr>\n",
       "  </thead>\n",
       "  <tbody>\n",
       "    <tr>\n",
       "      <th>0</th>\n",
       "      <td>2588946</td>\n",
       "      <td>2019-12-31 00:00:00.000</td>\n",
       "      <td>Production Hours</td>\n",
       "      <td>744.0</td>\n",
       "    </tr>\n",
       "    <tr>\n",
       "      <th>1</th>\n",
       "      <td>2608797</td>\n",
       "      <td>2019-12-31 00:00:00.000</td>\n",
       "      <td>Production Hours</td>\n",
       "      <td>744.0</td>\n",
       "    </tr>\n",
       "    <tr>\n",
       "      <th>2</th>\n",
       "      <td>2617557</td>\n",
       "      <td>2019-12-31 00:00:00.000</td>\n",
       "      <td>Production Hours</td>\n",
       "      <td>744.0</td>\n",
       "    </tr>\n",
       "    <tr>\n",
       "      <th>3</th>\n",
       "      <td>2588149</td>\n",
       "      <td>2019-12-31 00:00:00.000</td>\n",
       "      <td>Production Hours</td>\n",
       "      <td>744.0</td>\n",
       "    </tr>\n",
       "    <tr>\n",
       "      <th>4</th>\n",
       "      <td>2583451</td>\n",
       "      <td>2019-12-31 00:00:00.000</td>\n",
       "      <td>Production Hours</td>\n",
       "      <td>744.0</td>\n",
       "    </tr>\n",
       "  </tbody>\n",
       "</table>\n",
       "</div>"
      ],
      "text/plain": [
       "   EPAssetsId               ProdPeriod          ProdType  Volume\n",
       "0     2588946  2019-12-31 00:00:00.000  Production Hours   744.0\n",
       "1     2608797  2019-12-31 00:00:00.000  Production Hours   744.0\n",
       "2     2617557  2019-12-31 00:00:00.000  Production Hours   744.0\n",
       "3     2588149  2019-12-31 00:00:00.000  Production Hours   744.0\n",
       "4     2583451  2019-12-31 00:00:00.000  Production Hours   744.0"
      ]
     },
     "execution_count": 15,
     "metadata": {},
     "output_type": "execute_result"
    }
   ],
   "source": [
    "well_production.head()"
   ]
  },
  {
   "cell_type": "code",
   "execution_count": 16,
   "metadata": {},
   "outputs": [],
   "source": [
    "wp1=well_production.groupby(['EPAssetsId','ProdType']).sum()"
   ]
  },
  {
   "cell_type": "code",
   "execution_count": 17,
   "metadata": {},
   "outputs": [],
   "source": [
    "wp2=wp1.reset_index()"
   ]
  },
  {
   "cell_type": "code",
   "execution_count": 18,
   "metadata": {},
   "outputs": [],
   "source": [
    "well_prod_final=wp2.pivot(index='EPAssetsId', columns='ProdType', values='Volume')"
   ]
  },
  {
   "cell_type": "code",
   "execution_count": 19,
   "metadata": {},
   "outputs": [
    {
     "name": "stderr",
     "output_type": "stream",
     "text": [
      ":FEATURES DONE:                    |█████████████████████| [100%]   00:02  -> (00:00 left)\n",
      ":PAIRWISE DONE:                    |█████████████████████| [100%]   00:00  -> (00:00 left)\n"
     ]
    },
    {
     "name": "stdout",
     "output_type": "stream",
     "text": [
      "Creating Associations graph... DONE!\n"
     ]
    }
   ],
   "source": [
    "wpf=sv.analyze(well_prod_final)"
   ]
  },
  {
   "cell_type": "code",
   "execution_count": 20,
   "metadata": {},
   "outputs": [
    {
     "name": "stdout",
     "output_type": "stream",
     "text": [
      "Report production.html was generated! NOTEBOOK/COLAB USERS: no browser will pop up, the report is saved in your notebook/colab files.\n"
     ]
    }
   ],
   "source": [
    "wpf.show_html('production.html')"
   ]
  },
  {
   "cell_type": "code",
   "execution_count": null,
   "metadata": {},
   "outputs": [],
   "source": []
  }
 ],
 "metadata": {
  "kernelspec": {
   "display_name": "Python 3",
   "language": "python",
   "name": "python3"
  },
  "language_info": {
   "codemirror_mode": {
    "name": "ipython",
    "version": 3
   },
   "file_extension": ".py",
   "mimetype": "text/x-python",
   "name": "python",
   "nbconvert_exporter": "python",
   "pygments_lexer": "ipython3",
   "version": "3.7.4"
  }
 },
 "nbformat": 4,
 "nbformat_minor": 4
}
